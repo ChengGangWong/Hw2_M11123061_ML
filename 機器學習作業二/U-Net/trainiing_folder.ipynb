{
 "cells": [
  {
   "cell_type": "code",
   "execution_count": 7,
   "metadata": {},
   "outputs": [],
   "source": [
    "from model import *\n",
    "from data import *"
   ]
  },
  {
   "cell_type": "code",
   "execution_count": 8,
   "metadata": {},
   "outputs": [],
   "source": [
    "data_gen_args = dict(rotation_range=0.2,\n",
    "                    width_shift_range=0.05,\n",
    "                    height_shift_range=0.05,\n",
    "                    shear_range=0.05,\n",
    "                    zoom_range=0.05,\n",
    "                    horizontal_flip=True,\n",
    "                    fill_mode='nearest')\n",
    "b=1\n",
    "train = trainGenerator(b,r'img\\folder1','train','trainmask',data_gen_args,save_to_dir = None)\n",
    "val= trainGenerator(b,r'img\\folder1','validation','validationmask',data_gen_args,save_to_dir = None)\n",
    "# model = unet()\n",
    "# model_checkpoint = ModelCheckpoint('unet_membrane.hdf5', monitor='loss',verbose=1, save_best_only=True)"
   ]
  },
  {
   "cell_type": "code",
   "execution_count": 9,
   "metadata": {},
   "outputs": [
    {
     "name": "stdout",
     "output_type": "stream",
     "text": [
      "Epoch 1/1\n",
      "Found 3666 images belonging to 1 classes.\n",
      "Found 3666 images belonging to 1 classes.\n",
      "5000/5000 [==============================] - 448s 90ms/step - loss: 0.0351 - acc: 0.98905s - loss: 0.0 - ETA: 4s - loss: 0.0353 - ac\n",
      "\n",
      "Epoch 00001: loss improved from inf to 0.03514, saving model to unet_membrane.hdf5\n",
      "45/45 [==============================] - 1s 29ms/step\n",
      "Epoch 1/1\n",
      "5000/5000 [==============================] - 441s 88ms/step - loss: 0.0209 - acc: 0.99201s - loss: 0.0209\n",
      "\n",
      "Epoch 00001: loss improved from 0.03514 to 0.02094, saving model to unet_membrane.hdf5\n",
      "45/45 [==============================] - 1s 23ms/step\n",
      "Epoch 1/1\n",
      "5000/5000 [==============================] - 447s 89ms/step - loss: 0.0158 - acc: 0.9939\n",
      "\n",
      "Epoch 00001: loss improved from 0.02094 to 0.01577, saving model to unet_membrane.hdf5\n",
      "45/45 [==============================] - 1s 23ms/step\n",
      "Epoch 1/1\n",
      "5000/5000 [==============================] - 427s 85ms/step - loss: 0.0131 - acc: 0.9949\n",
      "\n",
      "Epoch 00001: loss improved from 0.01577 to 0.01315, saving model to unet_membrane.hdf5\n",
      "45/45 [==============================] - 1s 23ms/step\n",
      "Epoch 1/1\n",
      "5000/5000 [==============================] - 419s 84ms/step - loss: 0.0110 - acc: 0.9957\n",
      "\n",
      "Epoch 00001: loss improved from 0.01315 to 0.01097, saving model to unet_membrane.hdf5\n",
      "45/45 [==============================] - 1s 20ms/step\n",
      "Epoch 1/1\n",
      "5000/5000 [==============================] - 393s 79ms/step - loss: 0.0099 - acc: 0.9961\n",
      "\n",
      "Epoch 00001: loss improved from 0.01097 to 0.00991, saving model to unet_membrane.hdf5\n",
      "45/45 [==============================] - 1s 20ms/step\n",
      "Epoch 1/1\n",
      "5000/5000 [==============================] - 393s 79ms/step - loss: 0.0087 - acc: 0.9966\n",
      "\n",
      "Epoch 00001: loss improved from 0.00991 to 0.00871, saving model to unet_membrane.hdf5\n",
      "45/45 [==============================] - 1s 20ms/step\n",
      "Epoch 1/1\n",
      "5000/5000 [==============================] - 393s 79ms/step - loss: 0.0080 - acc: 0.9969\n",
      "\n",
      "Epoch 00001: loss improved from 0.00871 to 0.00799, saving model to unet_membrane.hdf5\n",
      "45/45 [==============================] - 1s 20ms/step\n",
      "Epoch 1/1\n",
      "5000/5000 [==============================] - 393s 79ms/step - loss: 0.0073 - acc: 0.9971\n",
      "\n",
      "Epoch 00001: loss improved from 0.00799 to 0.00726, saving model to unet_membrane.hdf5\n",
      "45/45 [==============================] - 1s 20ms/step\n",
      "Epoch 1/1\n",
      "5000/5000 [==============================] - 393s 79ms/step - loss: 0.0068 - acc: 0.9973\n",
      "\n",
      "Epoch 00001: loss improved from 0.00726 to 0.00684, saving model to unet_membrane.hdf5\n",
      "45/45 [==============================] - 1s 20ms/step\n",
      "Epoch 1/1\n",
      "5000/5000 [==============================] - 392s 78ms/step - loss: 0.0064 - acc: 0.9974\n",
      "\n",
      "Epoch 00001: loss improved from 0.00684 to 0.00645, saving model to unet_membrane.hdf5\n",
      "45/45 [==============================] - 1s 20ms/step\n",
      "Epoch 1/1\n",
      "5000/5000 [==============================] - 392s 78ms/step - loss: 0.0060 - acc: 0.9976\n",
      "\n",
      "Epoch 00001: loss improved from 0.00645 to 0.00596, saving model to unet_membrane.hdf5\n",
      "45/45 [==============================] - 1s 20ms/step\n"
     ]
    },
    {
     "name": "stderr",
     "output_type": "stream",
     "text": [
      "c:\\Users\\user\\Desktop\\U-Net\\data.py:124: UserWarning: img\\folder1\\predict\\\\12\\21_predict.png is a low contrast image\n",
      "  io.imsave(os.path.join(save_path,\"%d_predict.png\"%i),img_as_ubyte(img))\n",
      "c:\\Users\\user\\Desktop\\U-Net\\data.py:124: UserWarning: img\\folder1\\predict\\\\12\\32_predict.png is a low contrast image\n",
      "  io.imsave(os.path.join(save_path,\"%d_predict.png\"%i),img_as_ubyte(img))\n"
     ]
    },
    {
     "name": "stdout",
     "output_type": "stream",
     "text": [
      "Epoch 1/1\n",
      "5000/5000 [==============================] - 392s 78ms/step - loss: 0.0056 - acc: 0.9978\n",
      "\n",
      "Epoch 00001: loss improved from 0.00596 to 0.00559, saving model to unet_membrane.hdf5\n",
      "45/45 [==============================] - 1s 20ms/step\n",
      "Epoch 1/1\n",
      "5000/5000 [==============================] - 392s 78ms/step - loss: 0.0053 - acc: 0.9979\n",
      "\n",
      "Epoch 00001: loss improved from 0.00559 to 0.00535, saving model to unet_membrane.hdf5\n",
      "45/45 [==============================] - 1s 20ms/step\n",
      "Epoch 1/1\n",
      "5000/5000 [==============================] - 392s 78ms/step - loss: 0.0051 - acc: 0.9979\n",
      "\n",
      "Epoch 00001: loss improved from 0.00535 to 0.00513, saving model to unet_membrane.hdf5\n",
      "45/45 [==============================] - 1s 20ms/step\n"
     ]
    },
    {
     "name": "stderr",
     "output_type": "stream",
     "text": [
      "c:\\Users\\user\\Desktop\\U-Net\\data.py:124: UserWarning: img\\folder1\\predict\\\\15\\0_predict.png is a low contrast image\n",
      "  io.imsave(os.path.join(save_path,\"%d_predict.png\"%i),img_as_ubyte(img))\n",
      "c:\\Users\\user\\Desktop\\U-Net\\data.py:124: UserWarning: img\\folder1\\predict\\\\15\\1_predict.png is a low contrast image\n",
      "  io.imsave(os.path.join(save_path,\"%d_predict.png\"%i),img_as_ubyte(img))\n",
      "c:\\Users\\user\\Desktop\\U-Net\\data.py:124: UserWarning: img\\folder1\\predict\\\\15\\7_predict.png is a low contrast image\n",
      "  io.imsave(os.path.join(save_path,\"%d_predict.png\"%i),img_as_ubyte(img))\n",
      "c:\\Users\\user\\Desktop\\U-Net\\data.py:124: UserWarning: img\\folder1\\predict\\\\15\\16_predict.png is a low contrast image\n",
      "  io.imsave(os.path.join(save_path,\"%d_predict.png\"%i),img_as_ubyte(img))\n"
     ]
    },
    {
     "name": "stdout",
     "output_type": "stream",
     "text": [
      "Epoch 1/1\n",
      "5000/5000 [==============================] - 392s 78ms/step - loss: 0.0048 - acc: 0.9981\n",
      "\n",
      "Epoch 00001: loss improved from 0.00513 to 0.00481, saving model to unet_membrane.hdf5\n",
      "45/45 [==============================] - 1s 20ms/step\n"
     ]
    },
    {
     "name": "stderr",
     "output_type": "stream",
     "text": [
      "c:\\Users\\user\\Desktop\\U-Net\\data.py:124: UserWarning: img\\folder1\\predict\\\\16\\0_predict.png is a low contrast image\n",
      "  io.imsave(os.path.join(save_path,\"%d_predict.png\"%i),img_as_ubyte(img))\n",
      "c:\\Users\\user\\Desktop\\U-Net\\data.py:124: UserWarning: img\\folder1\\predict\\\\16\\33_predict.png is a low contrast image\n",
      "  io.imsave(os.path.join(save_path,\"%d_predict.png\"%i),img_as_ubyte(img))\n"
     ]
    },
    {
     "name": "stdout",
     "output_type": "stream",
     "text": [
      "Epoch 1/1\n",
      "5000/5000 [==============================] - 392s 78ms/step - loss: 0.0046 - acc: 0.9981\n",
      "\n",
      "Epoch 00001: loss improved from 0.00481 to 0.00463, saving model to unet_membrane.hdf5\n",
      "45/45 [==============================] - 1s 20ms/step\n"
     ]
    },
    {
     "name": "stderr",
     "output_type": "stream",
     "text": [
      "c:\\Users\\user\\Desktop\\U-Net\\data.py:124: UserWarning: img\\folder1\\predict\\\\17\\1_predict.png is a low contrast image\n",
      "  io.imsave(os.path.join(save_path,\"%d_predict.png\"%i),img_as_ubyte(img))\n"
     ]
    },
    {
     "name": "stdout",
     "output_type": "stream",
     "text": [
      "Epoch 1/1\n",
      "5000/5000 [==============================] - 392s 78ms/step - loss: 0.0044 - acc: 0.9982\n",
      "\n",
      "Epoch 00001: loss improved from 0.00463 to 0.00445, saving model to unet_membrane.hdf5\n",
      "45/45 [==============================] - 1s 20ms/step\n"
     ]
    },
    {
     "name": "stderr",
     "output_type": "stream",
     "text": [
      "c:\\Users\\user\\Desktop\\U-Net\\data.py:124: UserWarning: img\\folder1\\predict\\\\18\\0_predict.png is a low contrast image\n",
      "  io.imsave(os.path.join(save_path,\"%d_predict.png\"%i),img_as_ubyte(img))\n",
      "c:\\Users\\user\\Desktop\\U-Net\\data.py:124: UserWarning: img\\folder1\\predict\\\\18\\21_predict.png is a low contrast image\n",
      "  io.imsave(os.path.join(save_path,\"%d_predict.png\"%i),img_as_ubyte(img))\n"
     ]
    },
    {
     "name": "stdout",
     "output_type": "stream",
     "text": [
      "Epoch 1/1\n",
      "5000/5000 [==============================] - 392s 78ms/step - loss: 0.0044 - acc: 0.9983\n",
      "\n",
      "Epoch 00001: loss improved from 0.00445 to 0.00435, saving model to unet_membrane.hdf5\n",
      "45/45 [==============================] - 1s 20ms/step\n"
     ]
    },
    {
     "name": "stderr",
     "output_type": "stream",
     "text": [
      "c:\\Users\\user\\Desktop\\U-Net\\data.py:124: UserWarning: img\\folder1\\predict\\\\19\\0_predict.png is a low contrast image\n",
      "  io.imsave(os.path.join(save_path,\"%d_predict.png\"%i),img_as_ubyte(img))\n",
      "c:\\Users\\user\\Desktop\\U-Net\\data.py:124: UserWarning: img\\folder1\\predict\\\\19\\1_predict.png is a low contrast image\n",
      "  io.imsave(os.path.join(save_path,\"%d_predict.png\"%i),img_as_ubyte(img))\n",
      "c:\\Users\\user\\Desktop\\U-Net\\data.py:124: UserWarning: img\\folder1\\predict\\\\19\\7_predict.png is a low contrast image\n",
      "  io.imsave(os.path.join(save_path,\"%d_predict.png\"%i),img_as_ubyte(img))\n",
      "c:\\Users\\user\\Desktop\\U-Net\\data.py:124: UserWarning: img\\folder1\\predict\\\\19\\26_predict.png is a low contrast image\n",
      "  io.imsave(os.path.join(save_path,\"%d_predict.png\"%i),img_as_ubyte(img))\n"
     ]
    },
    {
     "name": "stdout",
     "output_type": "stream",
     "text": [
      "Epoch 1/1\n",
      "5000/5000 [==============================] - 392s 78ms/step - loss: 0.0039 - acc: 0.9984\n",
      "\n",
      "Epoch 00001: loss improved from 0.00435 to 0.00392, saving model to unet_membrane.hdf5\n",
      "45/45 [==============================] - 1s 20ms/step\n"
     ]
    },
    {
     "name": "stderr",
     "output_type": "stream",
     "text": [
      "c:\\Users\\user\\Desktop\\U-Net\\data.py:124: UserWarning: img\\folder1\\predict\\\\20\\0_predict.png is a low contrast image\n",
      "  io.imsave(os.path.join(save_path,\"%d_predict.png\"%i),img_as_ubyte(img))\n",
      "c:\\Users\\user\\Desktop\\U-Net\\data.py:124: UserWarning: img\\folder1\\predict\\\\20\\16_predict.png is a low contrast image\n",
      "  io.imsave(os.path.join(save_path,\"%d_predict.png\"%i),img_as_ubyte(img))\n"
     ]
    },
    {
     "name": "stdout",
     "output_type": "stream",
     "text": [
      "Epoch 1/1\n",
      "5000/5000 [==============================] - 392s 78ms/step - loss: 0.0040 - acc: 0.9984\n",
      "\n",
      "Epoch 00001: loss did not improve from 0.00392\n",
      "45/45 [==============================] - 1s 20ms/step\n"
     ]
    },
    {
     "name": "stderr",
     "output_type": "stream",
     "text": [
      "c:\\Users\\user\\Desktop\\U-Net\\data.py:124: UserWarning: img\\folder1\\predict\\\\21\\0_predict.png is a low contrast image\n",
      "  io.imsave(os.path.join(save_path,\"%d_predict.png\"%i),img_as_ubyte(img))\n",
      "c:\\Users\\user\\Desktop\\U-Net\\data.py:124: UserWarning: img\\folder1\\predict\\\\21\\1_predict.png is a low contrast image\n",
      "  io.imsave(os.path.join(save_path,\"%d_predict.png\"%i),img_as_ubyte(img))\n",
      "c:\\Users\\user\\Desktop\\U-Net\\data.py:124: UserWarning: img\\folder1\\predict\\\\21\\7_predict.png is a low contrast image\n",
      "  io.imsave(os.path.join(save_path,\"%d_predict.png\"%i),img_as_ubyte(img))\n",
      "c:\\Users\\user\\Desktop\\U-Net\\data.py:124: UserWarning: img\\folder1\\predict\\\\21\\16_predict.png is a low contrast image\n",
      "  io.imsave(os.path.join(save_path,\"%d_predict.png\"%i),img_as_ubyte(img))\n",
      "c:\\Users\\user\\Desktop\\U-Net\\data.py:124: UserWarning: img\\folder1\\predict\\\\21\\21_predict.png is a low contrast image\n",
      "  io.imsave(os.path.join(save_path,\"%d_predict.png\"%i),img_as_ubyte(img))\n",
      "c:\\Users\\user\\Desktop\\U-Net\\data.py:124: UserWarning: img\\folder1\\predict\\\\21\\26_predict.png is a low contrast image\n",
      "  io.imsave(os.path.join(save_path,\"%d_predict.png\"%i),img_as_ubyte(img))\n"
     ]
    },
    {
     "name": "stdout",
     "output_type": "stream",
     "text": [
      "Epoch 1/1\n",
      "5000/5000 [==============================] - 391s 78ms/step - loss: 0.0038 - acc: 0.9984\n",
      "\n",
      "Epoch 00001: loss improved from 0.00392 to 0.00384, saving model to unet_membrane.hdf5\n",
      "45/45 [==============================] - 1s 20ms/step\n"
     ]
    },
    {
     "name": "stderr",
     "output_type": "stream",
     "text": [
      "c:\\Users\\user\\Desktop\\U-Net\\data.py:124: UserWarning: img\\folder1\\predict\\\\22\\0_predict.png is a low contrast image\n",
      "  io.imsave(os.path.join(save_path,\"%d_predict.png\"%i),img_as_ubyte(img))\n",
      "c:\\Users\\user\\Desktop\\U-Net\\data.py:124: UserWarning: img\\folder1\\predict\\\\22\\1_predict.png is a low contrast image\n",
      "  io.imsave(os.path.join(save_path,\"%d_predict.png\"%i),img_as_ubyte(img))\n",
      "c:\\Users\\user\\Desktop\\U-Net\\data.py:124: UserWarning: img\\folder1\\predict\\\\22\\2_predict.png is a low contrast image\n",
      "  io.imsave(os.path.join(save_path,\"%d_predict.png\"%i),img_as_ubyte(img))\n",
      "c:\\Users\\user\\Desktop\\U-Net\\data.py:124: UserWarning: img\\folder1\\predict\\\\22\\7_predict.png is a low contrast image\n",
      "  io.imsave(os.path.join(save_path,\"%d_predict.png\"%i),img_as_ubyte(img))\n",
      "c:\\Users\\user\\Desktop\\U-Net\\data.py:124: UserWarning: img\\folder1\\predict\\\\22\\16_predict.png is a low contrast image\n",
      "  io.imsave(os.path.join(save_path,\"%d_predict.png\"%i),img_as_ubyte(img))\n",
      "c:\\Users\\user\\Desktop\\U-Net\\data.py:124: UserWarning: img\\folder1\\predict\\\\22\\21_predict.png is a low contrast image\n",
      "  io.imsave(os.path.join(save_path,\"%d_predict.png\"%i),img_as_ubyte(img))\n",
      "c:\\Users\\user\\Desktop\\U-Net\\data.py:124: UserWarning: img\\folder1\\predict\\\\22\\26_predict.png is a low contrast image\n",
      "  io.imsave(os.path.join(save_path,\"%d_predict.png\"%i),img_as_ubyte(img))\n"
     ]
    },
    {
     "name": "stdout",
     "output_type": "stream",
     "text": [
      "Epoch 1/1\n",
      "5000/5000 [==============================] - 391s 78ms/step - loss: 0.0038 - acc: 0.9985\n",
      "\n",
      "Epoch 00001: loss improved from 0.00384 to 0.00379, saving model to unet_membrane.hdf5\n",
      "45/45 [==============================] - 1s 20ms/step\n"
     ]
    },
    {
     "name": "stderr",
     "output_type": "stream",
     "text": [
      "c:\\Users\\user\\Desktop\\U-Net\\data.py:124: UserWarning: img\\folder1\\predict\\\\23\\0_predict.png is a low contrast image\n",
      "  io.imsave(os.path.join(save_path,\"%d_predict.png\"%i),img_as_ubyte(img))\n",
      "c:\\Users\\user\\Desktop\\U-Net\\data.py:124: UserWarning: img\\folder1\\predict\\\\23\\1_predict.png is a low contrast image\n",
      "  io.imsave(os.path.join(save_path,\"%d_predict.png\"%i),img_as_ubyte(img))\n",
      "c:\\Users\\user\\Desktop\\U-Net\\data.py:124: UserWarning: img\\folder1\\predict\\\\23\\16_predict.png is a low contrast image\n",
      "  io.imsave(os.path.join(save_path,\"%d_predict.png\"%i),img_as_ubyte(img))\n",
      "c:\\Users\\user\\Desktop\\U-Net\\data.py:124: UserWarning: img\\folder1\\predict\\\\23\\21_predict.png is a low contrast image\n",
      "  io.imsave(os.path.join(save_path,\"%d_predict.png\"%i),img_as_ubyte(img))\n",
      "c:\\Users\\user\\Desktop\\U-Net\\data.py:124: UserWarning: img\\folder1\\predict\\\\23\\26_predict.png is a low contrast image\n",
      "  io.imsave(os.path.join(save_path,\"%d_predict.png\"%i),img_as_ubyte(img))\n"
     ]
    },
    {
     "name": "stdout",
     "output_type": "stream",
     "text": [
      "Epoch 1/1\n",
      "5000/5000 [==============================] - 391s 78ms/step - loss: 0.0036 - acc: 0.9985\n",
      "\n",
      "Epoch 00001: loss improved from 0.00379 to 0.00364, saving model to unet_membrane.hdf5\n",
      "45/45 [==============================] - 1s 20ms/step\n"
     ]
    },
    {
     "name": "stderr",
     "output_type": "stream",
     "text": [
      "c:\\Users\\user\\Desktop\\U-Net\\data.py:124: UserWarning: img\\folder1\\predict\\\\24\\0_predict.png is a low contrast image\n",
      "  io.imsave(os.path.join(save_path,\"%d_predict.png\"%i),img_as_ubyte(img))\n",
      "c:\\Users\\user\\Desktop\\U-Net\\data.py:124: UserWarning: img\\folder1\\predict\\\\24\\1_predict.png is a low contrast image\n",
      "  io.imsave(os.path.join(save_path,\"%d_predict.png\"%i),img_as_ubyte(img))\n",
      "c:\\Users\\user\\Desktop\\U-Net\\data.py:124: UserWarning: img\\folder1\\predict\\\\24\\7_predict.png is a low contrast image\n",
      "  io.imsave(os.path.join(save_path,\"%d_predict.png\"%i),img_as_ubyte(img))\n",
      "c:\\Users\\user\\Desktop\\U-Net\\data.py:124: UserWarning: img\\folder1\\predict\\\\24\\16_predict.png is a low contrast image\n",
      "  io.imsave(os.path.join(save_path,\"%d_predict.png\"%i),img_as_ubyte(img))\n",
      "c:\\Users\\user\\Desktop\\U-Net\\data.py:124: UserWarning: img\\folder1\\predict\\\\24\\21_predict.png is a low contrast image\n",
      "  io.imsave(os.path.join(save_path,\"%d_predict.png\"%i),img_as_ubyte(img))\n",
      "c:\\Users\\user\\Desktop\\U-Net\\data.py:124: UserWarning: img\\folder1\\predict\\\\24\\26_predict.png is a low contrast image\n",
      "  io.imsave(os.path.join(save_path,\"%d_predict.png\"%i),img_as_ubyte(img))\n",
      "c:\\Users\\user\\Desktop\\U-Net\\data.py:124: UserWarning: img\\folder1\\predict\\\\24\\32_predict.png is a low contrast image\n",
      "  io.imsave(os.path.join(save_path,\"%d_predict.png\"%i),img_as_ubyte(img))\n"
     ]
    },
    {
     "name": "stdout",
     "output_type": "stream",
     "text": [
      "Epoch 1/1\n",
      "5000/5000 [==============================] - 391s 78ms/step - loss: 0.0035 - acc: 0.9986\n",
      "\n",
      "Epoch 00001: loss improved from 0.00364 to 0.00352, saving model to unet_membrane.hdf5\n",
      "45/45 [==============================] - 1s 20ms/step\n"
     ]
    },
    {
     "name": "stderr",
     "output_type": "stream",
     "text": [
      "c:\\Users\\user\\Desktop\\U-Net\\data.py:124: UserWarning: img\\folder1\\predict\\\\25\\0_predict.png is a low contrast image\n",
      "  io.imsave(os.path.join(save_path,\"%d_predict.png\"%i),img_as_ubyte(img))\n",
      "c:\\Users\\user\\Desktop\\U-Net\\data.py:124: UserWarning: img\\folder1\\predict\\\\25\\1_predict.png is a low contrast image\n",
      "  io.imsave(os.path.join(save_path,\"%d_predict.png\"%i),img_as_ubyte(img))\n",
      "c:\\Users\\user\\Desktop\\U-Net\\data.py:124: UserWarning: img\\folder1\\predict\\\\25\\2_predict.png is a low contrast image\n",
      "  io.imsave(os.path.join(save_path,\"%d_predict.png\"%i),img_as_ubyte(img))\n",
      "c:\\Users\\user\\Desktop\\U-Net\\data.py:124: UserWarning: img\\folder1\\predict\\\\25\\7_predict.png is a low contrast image\n",
      "  io.imsave(os.path.join(save_path,\"%d_predict.png\"%i),img_as_ubyte(img))\n",
      "c:\\Users\\user\\Desktop\\U-Net\\data.py:124: UserWarning: img\\folder1\\predict\\\\25\\16_predict.png is a low contrast image\n",
      "  io.imsave(os.path.join(save_path,\"%d_predict.png\"%i),img_as_ubyte(img))\n",
      "c:\\Users\\user\\Desktop\\U-Net\\data.py:124: UserWarning: img\\folder1\\predict\\\\25\\21_predict.png is a low contrast image\n",
      "  io.imsave(os.path.join(save_path,\"%d_predict.png\"%i),img_as_ubyte(img))\n",
      "c:\\Users\\user\\Desktop\\U-Net\\data.py:124: UserWarning: img\\folder1\\predict\\\\25\\26_predict.png is a low contrast image\n",
      "  io.imsave(os.path.join(save_path,\"%d_predict.png\"%i),img_as_ubyte(img))\n"
     ]
    },
    {
     "name": "stdout",
     "output_type": "stream",
     "text": [
      "Epoch 1/1\n",
      "   1/5000 [..............................] - ETA: 7:03 - loss: 0.0052 - acc: 0.9978"
     ]
    },
    {
     "name": "stderr",
     "output_type": "stream",
     "text": [
      "c:\\Users\\user\\Desktop\\U-Net\\data.py:124: UserWarning: img\\folder1\\predict\\\\25\\33_predict.png is a low contrast image\n",
      "  io.imsave(os.path.join(save_path,\"%d_predict.png\"%i),img_as_ubyte(img))\n"
     ]
    },
    {
     "name": "stdout",
     "output_type": "stream",
     "text": [
      "5000/5000 [==============================] - 391s 78ms/step - loss: 0.0034 - acc: 0.9986\n",
      "\n",
      "Epoch 00001: loss improved from 0.00352 to 0.00336, saving model to unet_membrane.hdf5\n",
      "45/45 [==============================] - 1s 20ms/step\n"
     ]
    },
    {
     "name": "stderr",
     "output_type": "stream",
     "text": [
      "c:\\Users\\user\\Desktop\\U-Net\\data.py:124: UserWarning: img\\folder1\\predict\\\\26\\0_predict.png is a low contrast image\n",
      "  io.imsave(os.path.join(save_path,\"%d_predict.png\"%i),img_as_ubyte(img))\n",
      "c:\\Users\\user\\Desktop\\U-Net\\data.py:124: UserWarning: img\\folder1\\predict\\\\26\\1_predict.png is a low contrast image\n",
      "  io.imsave(os.path.join(save_path,\"%d_predict.png\"%i),img_as_ubyte(img))\n",
      "c:\\Users\\user\\Desktop\\U-Net\\data.py:124: UserWarning: img\\folder1\\predict\\\\26\\2_predict.png is a low contrast image\n",
      "  io.imsave(os.path.join(save_path,\"%d_predict.png\"%i),img_as_ubyte(img))\n",
      "c:\\Users\\user\\Desktop\\U-Net\\data.py:124: UserWarning: img\\folder1\\predict\\\\26\\7_predict.png is a low contrast image\n",
      "  io.imsave(os.path.join(save_path,\"%d_predict.png\"%i),img_as_ubyte(img))\n",
      "c:\\Users\\user\\Desktop\\U-Net\\data.py:124: UserWarning: img\\folder1\\predict\\\\26\\16_predict.png is a low contrast image\n",
      "  io.imsave(os.path.join(save_path,\"%d_predict.png\"%i),img_as_ubyte(img))\n",
      "c:\\Users\\user\\Desktop\\U-Net\\data.py:124: UserWarning: img\\folder1\\predict\\\\26\\21_predict.png is a low contrast image\n",
      "  io.imsave(os.path.join(save_path,\"%d_predict.png\"%i),img_as_ubyte(img))\n",
      "c:\\Users\\user\\Desktop\\U-Net\\data.py:124: UserWarning: img\\folder1\\predict\\\\26\\26_predict.png is a low contrast image\n",
      "  io.imsave(os.path.join(save_path,\"%d_predict.png\"%i),img_as_ubyte(img))\n",
      "c:\\Users\\user\\Desktop\\U-Net\\data.py:124: UserWarning: img\\folder1\\predict\\\\26\\29_predict.png is a low contrast image\n",
      "  io.imsave(os.path.join(save_path,\"%d_predict.png\"%i),img_as_ubyte(img))\n",
      "c:\\Users\\user\\Desktop\\U-Net\\data.py:124: UserWarning: img\\folder1\\predict\\\\26\\33_predict.png is a low contrast image\n",
      "  io.imsave(os.path.join(save_path,\"%d_predict.png\"%i),img_as_ubyte(img))\n"
     ]
    },
    {
     "name": "stdout",
     "output_type": "stream",
     "text": [
      "Epoch 1/1\n",
      "   2/5000 [..............................] - ETA: 6:38 - loss: 0.0022 - acc: 0.9990"
     ]
    },
    {
     "name": "stderr",
     "output_type": "stream",
     "text": [
      "c:\\Users\\user\\Desktop\\U-Net\\data.py:124: UserWarning: img\\folder1\\predict\\\\26\\42_predict.png is a low contrast image\n",
      "  io.imsave(os.path.join(save_path,\"%d_predict.png\"%i),img_as_ubyte(img))\n"
     ]
    },
    {
     "name": "stdout",
     "output_type": "stream",
     "text": [
      "5000/5000 [==============================] - 391s 78ms/step - loss: 0.0034 - acc: 0.9986\n",
      "\n",
      "Epoch 00001: loss did not improve from 0.00336\n",
      "45/45 [==============================] - 1s 20ms/step\n"
     ]
    },
    {
     "name": "stderr",
     "output_type": "stream",
     "text": [
      "c:\\Users\\user\\Desktop\\U-Net\\data.py:124: UserWarning: img\\folder1\\predict\\\\27\\1_predict.png is a low contrast image\n",
      "  io.imsave(os.path.join(save_path,\"%d_predict.png\"%i),img_as_ubyte(img))\n",
      "c:\\Users\\user\\Desktop\\U-Net\\data.py:124: UserWarning: img\\folder1\\predict\\\\27\\16_predict.png is a low contrast image\n",
      "  io.imsave(os.path.join(save_path,\"%d_predict.png\"%i),img_as_ubyte(img))\n",
      "c:\\Users\\user\\Desktop\\U-Net\\data.py:124: UserWarning: img\\folder1\\predict\\\\27\\21_predict.png is a low contrast image\n",
      "  io.imsave(os.path.join(save_path,\"%d_predict.png\"%i),img_as_ubyte(img))\n",
      "c:\\Users\\user\\Desktop\\U-Net\\data.py:124: UserWarning: img\\folder1\\predict\\\\27\\26_predict.png is a low contrast image\n",
      "  io.imsave(os.path.join(save_path,\"%d_predict.png\"%i),img_as_ubyte(img))\n"
     ]
    },
    {
     "name": "stdout",
     "output_type": "stream",
     "text": [
      "Epoch 1/1\n",
      "5000/5000 [==============================] - 391s 78ms/step - loss: 0.0032 - acc: 0.9987\n",
      "\n",
      "Epoch 00001: loss improved from 0.00336 to 0.00319, saving model to unet_membrane.hdf5\n",
      "45/45 [==============================] - 1s 20ms/step\n"
     ]
    },
    {
     "name": "stderr",
     "output_type": "stream",
     "text": [
      "c:\\Users\\user\\Desktop\\U-Net\\data.py:124: UserWarning: img\\folder1\\predict\\\\28\\0_predict.png is a low contrast image\n",
      "  io.imsave(os.path.join(save_path,\"%d_predict.png\"%i),img_as_ubyte(img))\n",
      "c:\\Users\\user\\Desktop\\U-Net\\data.py:124: UserWarning: img\\folder1\\predict\\\\28\\1_predict.png is a low contrast image\n",
      "  io.imsave(os.path.join(save_path,\"%d_predict.png\"%i),img_as_ubyte(img))\n",
      "c:\\Users\\user\\Desktop\\U-Net\\data.py:124: UserWarning: img\\folder1\\predict\\\\28\\2_predict.png is a low contrast image\n",
      "  io.imsave(os.path.join(save_path,\"%d_predict.png\"%i),img_as_ubyte(img))\n",
      "c:\\Users\\user\\Desktop\\U-Net\\data.py:124: UserWarning: img\\folder1\\predict\\\\28\\7_predict.png is a low contrast image\n",
      "  io.imsave(os.path.join(save_path,\"%d_predict.png\"%i),img_as_ubyte(img))\n",
      "c:\\Users\\user\\Desktop\\U-Net\\data.py:124: UserWarning: img\\folder1\\predict\\\\28\\16_predict.png is a low contrast image\n",
      "  io.imsave(os.path.join(save_path,\"%d_predict.png\"%i),img_as_ubyte(img))\n",
      "c:\\Users\\user\\Desktop\\U-Net\\data.py:124: UserWarning: img\\folder1\\predict\\\\28\\21_predict.png is a low contrast image\n",
      "  io.imsave(os.path.join(save_path,\"%d_predict.png\"%i),img_as_ubyte(img))\n",
      "c:\\Users\\user\\Desktop\\U-Net\\data.py:124: UserWarning: img\\folder1\\predict\\\\28\\26_predict.png is a low contrast image\n",
      "  io.imsave(os.path.join(save_path,\"%d_predict.png\"%i),img_as_ubyte(img))\n"
     ]
    },
    {
     "name": "stdout",
     "output_type": "stream",
     "text": [
      "Epoch 1/1\n",
      "   1/5000 [..............................] - ETA: 6:58 - loss: 0.0020 - acc: 0.9993"
     ]
    },
    {
     "name": "stderr",
     "output_type": "stream",
     "text": [
      "c:\\Users\\user\\Desktop\\U-Net\\data.py:124: UserWarning: img\\folder1\\predict\\\\28\\36_predict.png is a low contrast image\n",
      "  io.imsave(os.path.join(save_path,\"%d_predict.png\"%i),img_as_ubyte(img))\n"
     ]
    },
    {
     "name": "stdout",
     "output_type": "stream",
     "text": [
      "5000/5000 [==============================] - 391s 78ms/step - loss: 0.0032 - acc: 0.9987\n",
      "\n",
      "Epoch 00001: loss did not improve from 0.00319\n",
      "45/45 [==============================] - 1s 20ms/step\n"
     ]
    },
    {
     "name": "stderr",
     "output_type": "stream",
     "text": [
      "c:\\Users\\user\\Desktop\\U-Net\\data.py:124: UserWarning: img\\folder1\\predict\\\\29\\1_predict.png is a low contrast image\n",
      "  io.imsave(os.path.join(save_path,\"%d_predict.png\"%i),img_as_ubyte(img))\n",
      "c:\\Users\\user\\Desktop\\U-Net\\data.py:124: UserWarning: img\\folder1\\predict\\\\29\\2_predict.png is a low contrast image\n",
      "  io.imsave(os.path.join(save_path,\"%d_predict.png\"%i),img_as_ubyte(img))\n",
      "c:\\Users\\user\\Desktop\\U-Net\\data.py:124: UserWarning: img\\folder1\\predict\\\\29\\7_predict.png is a low contrast image\n",
      "  io.imsave(os.path.join(save_path,\"%d_predict.png\"%i),img_as_ubyte(img))\n",
      "c:\\Users\\user\\Desktop\\U-Net\\data.py:124: UserWarning: img\\folder1\\predict\\\\29\\16_predict.png is a low contrast image\n",
      "  io.imsave(os.path.join(save_path,\"%d_predict.png\"%i),img_as_ubyte(img))\n",
      "c:\\Users\\user\\Desktop\\U-Net\\data.py:124: UserWarning: img\\folder1\\predict\\\\29\\21_predict.png is a low contrast image\n",
      "  io.imsave(os.path.join(save_path,\"%d_predict.png\"%i),img_as_ubyte(img))\n",
      "c:\\Users\\user\\Desktop\\U-Net\\data.py:124: UserWarning: img\\folder1\\predict\\\\29\\26_predict.png is a low contrast image\n",
      "  io.imsave(os.path.join(save_path,\"%d_predict.png\"%i),img_as_ubyte(img))\n",
      "c:\\Users\\user\\Desktop\\U-Net\\data.py:124: UserWarning: img\\folder1\\predict\\\\29\\33_predict.png is a low contrast image\n",
      "  io.imsave(os.path.join(save_path,\"%d_predict.png\"%i),img_as_ubyte(img))\n"
     ]
    },
    {
     "name": "stdout",
     "output_type": "stream",
     "text": [
      "Epoch 1/1\n",
      "5000/5000 [==============================] - 391s 78ms/step - loss: 0.0032 - acc: 0.9987\n",
      "\n",
      "Epoch 00001: loss improved from 0.00319 to 0.00316, saving model to unet_membrane.hdf5\n",
      "45/45 [==============================] - 1s 20ms/step\n"
     ]
    },
    {
     "name": "stderr",
     "output_type": "stream",
     "text": [
      "c:\\Users\\user\\Desktop\\U-Net\\data.py:124: UserWarning: img\\folder1\\predict\\\\30\\0_predict.png is a low contrast image\n",
      "  io.imsave(os.path.join(save_path,\"%d_predict.png\"%i),img_as_ubyte(img))\n",
      "c:\\Users\\user\\Desktop\\U-Net\\data.py:124: UserWarning: img\\folder1\\predict\\\\30\\1_predict.png is a low contrast image\n",
      "  io.imsave(os.path.join(save_path,\"%d_predict.png\"%i),img_as_ubyte(img))\n",
      "c:\\Users\\user\\Desktop\\U-Net\\data.py:124: UserWarning: img\\folder1\\predict\\\\30\\2_predict.png is a low contrast image\n",
      "  io.imsave(os.path.join(save_path,\"%d_predict.png\"%i),img_as_ubyte(img))\n",
      "c:\\Users\\user\\Desktop\\U-Net\\data.py:124: UserWarning: img\\folder1\\predict\\\\30\\7_predict.png is a low contrast image\n",
      "  io.imsave(os.path.join(save_path,\"%d_predict.png\"%i),img_as_ubyte(img))\n",
      "c:\\Users\\user\\Desktop\\U-Net\\data.py:124: UserWarning: img\\folder1\\predict\\\\30\\16_predict.png is a low contrast image\n",
      "  io.imsave(os.path.join(save_path,\"%d_predict.png\"%i),img_as_ubyte(img))\n",
      "c:\\Users\\user\\Desktop\\U-Net\\data.py:124: UserWarning: img\\folder1\\predict\\\\30\\21_predict.png is a low contrast image\n",
      "  io.imsave(os.path.join(save_path,\"%d_predict.png\"%i),img_as_ubyte(img))\n",
      "c:\\Users\\user\\Desktop\\U-Net\\data.py:124: UserWarning: img\\folder1\\predict\\\\30\\26_predict.png is a low contrast image\n",
      "  io.imsave(os.path.join(save_path,\"%d_predict.png\"%i),img_as_ubyte(img))\n"
     ]
    },
    {
     "name": "stdout",
     "output_type": "stream",
     "text": [
      "Epoch 1/1\n",
      "   1/5000 [..............................] - ETA: 7:00 - loss: 0.0013 - acc: 0.9995"
     ]
    },
    {
     "name": "stderr",
     "output_type": "stream",
     "text": [
      "c:\\Users\\user\\Desktop\\U-Net\\data.py:124: UserWarning: img\\folder1\\predict\\\\30\\33_predict.png is a low contrast image\n",
      "  io.imsave(os.path.join(save_path,\"%d_predict.png\"%i),img_as_ubyte(img))\n",
      "c:\\Users\\user\\Desktop\\U-Net\\data.py:124: UserWarning: img\\folder1\\predict\\\\30\\36_predict.png is a low contrast image\n",
      "  io.imsave(os.path.join(save_path,\"%d_predict.png\"%i),img_as_ubyte(img))\n"
     ]
    },
    {
     "name": "stdout",
     "output_type": "stream",
     "text": [
      "5000/5000 [==============================] - 391s 78ms/step - loss: 0.0031 - acc: 0.9988\n",
      "\n",
      "Epoch 00001: loss improved from 0.00316 to 0.00305, saving model to unet_membrane.hdf5\n",
      "45/45 [==============================] - 1s 20ms/step\n"
     ]
    },
    {
     "name": "stderr",
     "output_type": "stream",
     "text": [
      "c:\\Users\\user\\Desktop\\U-Net\\data.py:124: UserWarning: img\\folder1\\predict\\\\31\\0_predict.png is a low contrast image\n",
      "  io.imsave(os.path.join(save_path,\"%d_predict.png\"%i),img_as_ubyte(img))\n",
      "c:\\Users\\user\\Desktop\\U-Net\\data.py:124: UserWarning: img\\folder1\\predict\\\\31\\1_predict.png is a low contrast image\n",
      "  io.imsave(os.path.join(save_path,\"%d_predict.png\"%i),img_as_ubyte(img))\n",
      "c:\\Users\\user\\Desktop\\U-Net\\data.py:124: UserWarning: img\\folder1\\predict\\\\31\\2_predict.png is a low contrast image\n",
      "  io.imsave(os.path.join(save_path,\"%d_predict.png\"%i),img_as_ubyte(img))\n",
      "c:\\Users\\user\\Desktop\\U-Net\\data.py:124: UserWarning: img\\folder1\\predict\\\\31\\7_predict.png is a low contrast image\n",
      "  io.imsave(os.path.join(save_path,\"%d_predict.png\"%i),img_as_ubyte(img))\n",
      "c:\\Users\\user\\Desktop\\U-Net\\data.py:124: UserWarning: img\\folder1\\predict\\\\31\\11_predict.png is a low contrast image\n",
      "  io.imsave(os.path.join(save_path,\"%d_predict.png\"%i),img_as_ubyte(img))\n",
      "c:\\Users\\user\\Desktop\\U-Net\\data.py:124: UserWarning: img\\folder1\\predict\\\\31\\15_predict.png is a low contrast image\n",
      "  io.imsave(os.path.join(save_path,\"%d_predict.png\"%i),img_as_ubyte(img))\n",
      "c:\\Users\\user\\Desktop\\U-Net\\data.py:124: UserWarning: img\\folder1\\predict\\\\31\\16_predict.png is a low contrast image\n",
      "  io.imsave(os.path.join(save_path,\"%d_predict.png\"%i),img_as_ubyte(img))\n",
      "c:\\Users\\user\\Desktop\\U-Net\\data.py:124: UserWarning: img\\folder1\\predict\\\\31\\20_predict.png is a low contrast image\n",
      "  io.imsave(os.path.join(save_path,\"%d_predict.png\"%i),img_as_ubyte(img))\n",
      "c:\\Users\\user\\Desktop\\U-Net\\data.py:124: UserWarning: img\\folder1\\predict\\\\31\\21_predict.png is a low contrast image\n",
      "  io.imsave(os.path.join(save_path,\"%d_predict.png\"%i),img_as_ubyte(img))\n",
      "c:\\Users\\user\\Desktop\\U-Net\\data.py:124: UserWarning: img\\folder1\\predict\\\\31\\24_predict.png is a low contrast image\n",
      "  io.imsave(os.path.join(save_path,\"%d_predict.png\"%i),img_as_ubyte(img))\n",
      "c:\\Users\\user\\Desktop\\U-Net\\data.py:124: UserWarning: img\\folder1\\predict\\\\31\\26_predict.png is a low contrast image\n",
      "  io.imsave(os.path.join(save_path,\"%d_predict.png\"%i),img_as_ubyte(img))\n",
      "c:\\Users\\user\\Desktop\\U-Net\\data.py:124: UserWarning: img\\folder1\\predict\\\\31\\29_predict.png is a low contrast image\n",
      "  io.imsave(os.path.join(save_path,\"%d_predict.png\"%i),img_as_ubyte(img))\n",
      "c:\\Users\\user\\Desktop\\U-Net\\data.py:124: UserWarning: img\\folder1\\predict\\\\31\\32_predict.png is a low contrast image\n",
      "  io.imsave(os.path.join(save_path,\"%d_predict.png\"%i),img_as_ubyte(img))\n"
     ]
    },
    {
     "name": "stdout",
     "output_type": "stream",
     "text": [
      "Epoch 1/1\n",
      "   1/5000 [..............................] - ETA: 7:03 - loss: 0.0023 - acc: 0.9991"
     ]
    },
    {
     "name": "stderr",
     "output_type": "stream",
     "text": [
      "c:\\Users\\user\\Desktop\\U-Net\\data.py:124: UserWarning: img\\folder1\\predict\\\\31\\33_predict.png is a low contrast image\n",
      "  io.imsave(os.path.join(save_path,\"%d_predict.png\"%i),img_as_ubyte(img))\n",
      "c:\\Users\\user\\Desktop\\U-Net\\data.py:124: UserWarning: img\\folder1\\predict\\\\31\\36_predict.png is a low contrast image\n",
      "  io.imsave(os.path.join(save_path,\"%d_predict.png\"%i),img_as_ubyte(img))\n",
      "c:\\Users\\user\\Desktop\\U-Net\\data.py:124: UserWarning: img\\folder1\\predict\\\\31\\39_predict.png is a low contrast image\n",
      "  io.imsave(os.path.join(save_path,\"%d_predict.png\"%i),img_as_ubyte(img))\n",
      "c:\\Users\\user\\Desktop\\U-Net\\data.py:124: UserWarning: img\\folder1\\predict\\\\31\\42_predict.png is a low contrast image\n",
      "  io.imsave(os.path.join(save_path,\"%d_predict.png\"%i),img_as_ubyte(img))\n"
     ]
    },
    {
     "name": "stdout",
     "output_type": "stream",
     "text": [
      "5000/5000 [==============================] - 391s 78ms/step - loss: 0.0030 - acc: 0.9988\n",
      "\n",
      "Epoch 00001: loss improved from 0.00305 to 0.00299, saving model to unet_membrane.hdf5\n",
      "45/45 [==============================] - 1s 20ms/step\n"
     ]
    },
    {
     "name": "stderr",
     "output_type": "stream",
     "text": [
      "c:\\Users\\user\\Desktop\\U-Net\\data.py:124: UserWarning: img\\folder1\\predict\\\\32\\0_predict.png is a low contrast image\n",
      "  io.imsave(os.path.join(save_path,\"%d_predict.png\"%i),img_as_ubyte(img))\n",
      "c:\\Users\\user\\Desktop\\U-Net\\data.py:124: UserWarning: img\\folder1\\predict\\\\32\\1_predict.png is a low contrast image\n",
      "  io.imsave(os.path.join(save_path,\"%d_predict.png\"%i),img_as_ubyte(img))\n",
      "c:\\Users\\user\\Desktop\\U-Net\\data.py:124: UserWarning: img\\folder1\\predict\\\\32\\2_predict.png is a low contrast image\n",
      "  io.imsave(os.path.join(save_path,\"%d_predict.png\"%i),img_as_ubyte(img))\n",
      "c:\\Users\\user\\Desktop\\U-Net\\data.py:124: UserWarning: img\\folder1\\predict\\\\32\\11_predict.png is a low contrast image\n",
      "  io.imsave(os.path.join(save_path,\"%d_predict.png\"%i),img_as_ubyte(img))\n",
      "c:\\Users\\user\\Desktop\\U-Net\\data.py:124: UserWarning: img\\folder1\\predict\\\\32\\16_predict.png is a low contrast image\n",
      "  io.imsave(os.path.join(save_path,\"%d_predict.png\"%i),img_as_ubyte(img))\n",
      "c:\\Users\\user\\Desktop\\U-Net\\data.py:124: UserWarning: img\\folder1\\predict\\\\32\\21_predict.png is a low contrast image\n",
      "  io.imsave(os.path.join(save_path,\"%d_predict.png\"%i),img_as_ubyte(img))\n",
      "c:\\Users\\user\\Desktop\\U-Net\\data.py:124: UserWarning: img\\folder1\\predict\\\\32\\26_predict.png is a low contrast image\n",
      "  io.imsave(os.path.join(save_path,\"%d_predict.png\"%i),img_as_ubyte(img))\n",
      "c:\\Users\\user\\Desktop\\U-Net\\data.py:124: UserWarning: img\\folder1\\predict\\\\32\\32_predict.png is a low contrast image\n",
      "  io.imsave(os.path.join(save_path,\"%d_predict.png\"%i),img_as_ubyte(img))\n"
     ]
    },
    {
     "name": "stdout",
     "output_type": "stream",
     "text": [
      "Epoch 1/1\n",
      "   1/5000 [..............................] - ETA: 7:00 - loss: 0.0018 - acc: 0.9994"
     ]
    },
    {
     "name": "stderr",
     "output_type": "stream",
     "text": [
      "c:\\Users\\user\\Desktop\\U-Net\\data.py:124: UserWarning: img\\folder1\\predict\\\\32\\33_predict.png is a low contrast image\n",
      "  io.imsave(os.path.join(save_path,\"%d_predict.png\"%i),img_as_ubyte(img))\n"
     ]
    },
    {
     "name": "stdout",
     "output_type": "stream",
     "text": [
      "5000/5000 [==============================] - 391s 78ms/step - loss: 0.0030 - acc: 0.9988\n",
      "\n",
      "Epoch 00001: loss improved from 0.00299 to 0.00296, saving model to unet_membrane.hdf5\n",
      "45/45 [==============================] - 1s 20ms/step\n"
     ]
    },
    {
     "name": "stderr",
     "output_type": "stream",
     "text": [
      "c:\\Users\\user\\Desktop\\U-Net\\data.py:124: UserWarning: img\\folder1\\predict\\\\33\\1_predict.png is a low contrast image\n",
      "  io.imsave(os.path.join(save_path,\"%d_predict.png\"%i),img_as_ubyte(img))\n",
      "c:\\Users\\user\\Desktop\\U-Net\\data.py:124: UserWarning: img\\folder1\\predict\\\\33\\16_predict.png is a low contrast image\n",
      "  io.imsave(os.path.join(save_path,\"%d_predict.png\"%i),img_as_ubyte(img))\n",
      "c:\\Users\\user\\Desktop\\U-Net\\data.py:124: UserWarning: img\\folder1\\predict\\\\33\\21_predict.png is a low contrast image\n",
      "  io.imsave(os.path.join(save_path,\"%d_predict.png\"%i),img_as_ubyte(img))\n",
      "c:\\Users\\user\\Desktop\\U-Net\\data.py:124: UserWarning: img\\folder1\\predict\\\\33\\26_predict.png is a low contrast image\n",
      "  io.imsave(os.path.join(save_path,\"%d_predict.png\"%i),img_as_ubyte(img))\n"
     ]
    },
    {
     "name": "stdout",
     "output_type": "stream",
     "text": [
      "Epoch 1/1\n",
      "5000/5000 [==============================] - 391s 78ms/step - loss: 0.0028 - acc: 0.9988\n",
      "\n",
      "Epoch 00001: loss improved from 0.00296 to 0.00282, saving model to unet_membrane.hdf5\n",
      "45/45 [==============================] - 1s 20ms/step\n"
     ]
    },
    {
     "name": "stderr",
     "output_type": "stream",
     "text": [
      "c:\\Users\\user\\Desktop\\U-Net\\data.py:124: UserWarning: img\\folder1\\predict\\\\34\\1_predict.png is a low contrast image\n",
      "  io.imsave(os.path.join(save_path,\"%d_predict.png\"%i),img_as_ubyte(img))\n",
      "c:\\Users\\user\\Desktop\\U-Net\\data.py:124: UserWarning: img\\folder1\\predict\\\\34\\7_predict.png is a low contrast image\n",
      "  io.imsave(os.path.join(save_path,\"%d_predict.png\"%i),img_as_ubyte(img))\n",
      "c:\\Users\\user\\Desktop\\U-Net\\data.py:124: UserWarning: img\\folder1\\predict\\\\34\\16_predict.png is a low contrast image\n",
      "  io.imsave(os.path.join(save_path,\"%d_predict.png\"%i),img_as_ubyte(img))\n",
      "c:\\Users\\user\\Desktop\\U-Net\\data.py:124: UserWarning: img\\folder1\\predict\\\\34\\21_predict.png is a low contrast image\n",
      "  io.imsave(os.path.join(save_path,\"%d_predict.png\"%i),img_as_ubyte(img))\n",
      "c:\\Users\\user\\Desktop\\U-Net\\data.py:124: UserWarning: img\\folder1\\predict\\\\34\\26_predict.png is a low contrast image\n",
      "  io.imsave(os.path.join(save_path,\"%d_predict.png\"%i),img_as_ubyte(img))\n",
      "c:\\Users\\user\\Desktop\\U-Net\\data.py:124: UserWarning: img\\folder1\\predict\\\\34\\32_predict.png is a low contrast image\n",
      "  io.imsave(os.path.join(save_path,\"%d_predict.png\"%i),img_as_ubyte(img))\n"
     ]
    },
    {
     "name": "stdout",
     "output_type": "stream",
     "text": [
      "Epoch 1/1\n",
      "5000/5000 [==============================] - 391s 78ms/step - loss: 0.0028 - acc: 0.9988\n",
      "\n",
      "Epoch 00001: loss did not improve from 0.00282\n",
      "45/45 [==============================] - 1s 20ms/step\n"
     ]
    },
    {
     "name": "stderr",
     "output_type": "stream",
     "text": [
      "c:\\Users\\user\\Desktop\\U-Net\\data.py:124: UserWarning: img\\folder1\\predict\\\\35\\0_predict.png is a low contrast image\n",
      "  io.imsave(os.path.join(save_path,\"%d_predict.png\"%i),img_as_ubyte(img))\n",
      "c:\\Users\\user\\Desktop\\U-Net\\data.py:124: UserWarning: img\\folder1\\predict\\\\35\\1_predict.png is a low contrast image\n",
      "  io.imsave(os.path.join(save_path,\"%d_predict.png\"%i),img_as_ubyte(img))\n",
      "c:\\Users\\user\\Desktop\\U-Net\\data.py:124: UserWarning: img\\folder1\\predict\\\\35\\2_predict.png is a low contrast image\n",
      "  io.imsave(os.path.join(save_path,\"%d_predict.png\"%i),img_as_ubyte(img))\n",
      "c:\\Users\\user\\Desktop\\U-Net\\data.py:124: UserWarning: img\\folder1\\predict\\\\35\\15_predict.png is a low contrast image\n",
      "  io.imsave(os.path.join(save_path,\"%d_predict.png\"%i),img_as_ubyte(img))\n",
      "c:\\Users\\user\\Desktop\\U-Net\\data.py:124: UserWarning: img\\folder1\\predict\\\\35\\16_predict.png is a low contrast image\n",
      "  io.imsave(os.path.join(save_path,\"%d_predict.png\"%i),img_as_ubyte(img))\n",
      "c:\\Users\\user\\Desktop\\U-Net\\data.py:124: UserWarning: img\\folder1\\predict\\\\35\\21_predict.png is a low contrast image\n",
      "  io.imsave(os.path.join(save_path,\"%d_predict.png\"%i),img_as_ubyte(img))\n",
      "c:\\Users\\user\\Desktop\\U-Net\\data.py:124: UserWarning: img\\folder1\\predict\\\\35\\26_predict.png is a low contrast image\n",
      "  io.imsave(os.path.join(save_path,\"%d_predict.png\"%i),img_as_ubyte(img))\n"
     ]
    },
    {
     "name": "stdout",
     "output_type": "stream",
     "text": [
      "Epoch 1/1\n",
      "   1/5000 [..............................] - ETA: 6:58 - loss: 0.0017 - acc: 0.9993"
     ]
    },
    {
     "name": "stderr",
     "output_type": "stream",
     "text": [
      "c:\\Users\\user\\Desktop\\U-Net\\data.py:124: UserWarning: img\\folder1\\predict\\\\35\\32_predict.png is a low contrast image\n",
      "  io.imsave(os.path.join(save_path,\"%d_predict.png\"%i),img_as_ubyte(img))\n",
      "c:\\Users\\user\\Desktop\\U-Net\\data.py:124: UserWarning: img\\folder1\\predict\\\\35\\33_predict.png is a low contrast image\n",
      "  io.imsave(os.path.join(save_path,\"%d_predict.png\"%i),img_as_ubyte(img))\n"
     ]
    },
    {
     "name": "stdout",
     "output_type": "stream",
     "text": [
      "5000/5000 [==============================] - 391s 78ms/step - loss: 0.0028 - acc: 0.9988\n",
      "\n",
      "Epoch 00001: loss did not improve from 0.00282\n",
      "45/45 [==============================] - 1s 20ms/step\n"
     ]
    },
    {
     "name": "stderr",
     "output_type": "stream",
     "text": [
      "c:\\Users\\user\\Desktop\\U-Net\\data.py:124: UserWarning: img\\folder1\\predict\\\\36\\0_predict.png is a low contrast image\n",
      "  io.imsave(os.path.join(save_path,\"%d_predict.png\"%i),img_as_ubyte(img))\n",
      "c:\\Users\\user\\Desktop\\U-Net\\data.py:124: UserWarning: img\\folder1\\predict\\\\36\\1_predict.png is a low contrast image\n",
      "  io.imsave(os.path.join(save_path,\"%d_predict.png\"%i),img_as_ubyte(img))\n",
      "c:\\Users\\user\\Desktop\\U-Net\\data.py:124: UserWarning: img\\folder1\\predict\\\\36\\2_predict.png is a low contrast image\n",
      "  io.imsave(os.path.join(save_path,\"%d_predict.png\"%i),img_as_ubyte(img))\n",
      "c:\\Users\\user\\Desktop\\U-Net\\data.py:124: UserWarning: img\\folder1\\predict\\\\36\\7_predict.png is a low contrast image\n",
      "  io.imsave(os.path.join(save_path,\"%d_predict.png\"%i),img_as_ubyte(img))\n",
      "c:\\Users\\user\\Desktop\\U-Net\\data.py:124: UserWarning: img\\folder1\\predict\\\\36\\16_predict.png is a low contrast image\n",
      "  io.imsave(os.path.join(save_path,\"%d_predict.png\"%i),img_as_ubyte(img))\n",
      "c:\\Users\\user\\Desktop\\U-Net\\data.py:124: UserWarning: img\\folder1\\predict\\\\36\\21_predict.png is a low contrast image\n",
      "  io.imsave(os.path.join(save_path,\"%d_predict.png\"%i),img_as_ubyte(img))\n",
      "c:\\Users\\user\\Desktop\\U-Net\\data.py:124: UserWarning: img\\folder1\\predict\\\\36\\26_predict.png is a low contrast image\n",
      "  io.imsave(os.path.join(save_path,\"%d_predict.png\"%i),img_as_ubyte(img))\n"
     ]
    },
    {
     "name": "stdout",
     "output_type": "stream",
     "text": [
      "Epoch 1/1\n",
      "   2/5000 [..............................] - ETA: 6:42 - loss: 0.0028 - acc: 0.9988"
     ]
    },
    {
     "name": "stderr",
     "output_type": "stream",
     "text": [
      "c:\\Users\\user\\Desktop\\U-Net\\data.py:124: UserWarning: img\\folder1\\predict\\\\36\\42_predict.png is a low contrast image\n",
      "  io.imsave(os.path.join(save_path,\"%d_predict.png\"%i),img_as_ubyte(img))\n"
     ]
    },
    {
     "name": "stdout",
     "output_type": "stream",
     "text": [
      "5000/5000 [==============================] - 391s 78ms/step - loss: 0.0027 - acc: 0.9989\n",
      "\n",
      "Epoch 00001: loss improved from 0.00282 to 0.00272, saving model to unet_membrane.hdf5\n",
      "45/45 [==============================] - 1s 20ms/step\n"
     ]
    },
    {
     "name": "stderr",
     "output_type": "stream",
     "text": [
      "c:\\Users\\user\\Desktop\\U-Net\\data.py:124: UserWarning: img\\folder1\\predict\\\\37\\0_predict.png is a low contrast image\n",
      "  io.imsave(os.path.join(save_path,\"%d_predict.png\"%i),img_as_ubyte(img))\n",
      "c:\\Users\\user\\Desktop\\U-Net\\data.py:124: UserWarning: img\\folder1\\predict\\\\37\\1_predict.png is a low contrast image\n",
      "  io.imsave(os.path.join(save_path,\"%d_predict.png\"%i),img_as_ubyte(img))\n",
      "c:\\Users\\user\\Desktop\\U-Net\\data.py:124: UserWarning: img\\folder1\\predict\\\\37\\2_predict.png is a low contrast image\n",
      "  io.imsave(os.path.join(save_path,\"%d_predict.png\"%i),img_as_ubyte(img))\n",
      "c:\\Users\\user\\Desktop\\U-Net\\data.py:124: UserWarning: img\\folder1\\predict\\\\37\\7_predict.png is a low contrast image\n",
      "  io.imsave(os.path.join(save_path,\"%d_predict.png\"%i),img_as_ubyte(img))\n",
      "c:\\Users\\user\\Desktop\\U-Net\\data.py:124: UserWarning: img\\folder1\\predict\\\\37\\11_predict.png is a low contrast image\n",
      "  io.imsave(os.path.join(save_path,\"%d_predict.png\"%i),img_as_ubyte(img))\n",
      "c:\\Users\\user\\Desktop\\U-Net\\data.py:124: UserWarning: img\\folder1\\predict\\\\37\\16_predict.png is a low contrast image\n",
      "  io.imsave(os.path.join(save_path,\"%d_predict.png\"%i),img_as_ubyte(img))\n",
      "c:\\Users\\user\\Desktop\\U-Net\\data.py:124: UserWarning: img\\folder1\\predict\\\\37\\21_predict.png is a low contrast image\n",
      "  io.imsave(os.path.join(save_path,\"%d_predict.png\"%i),img_as_ubyte(img))\n",
      "c:\\Users\\user\\Desktop\\U-Net\\data.py:124: UserWarning: img\\folder1\\predict\\\\37\\24_predict.png is a low contrast image\n",
      "  io.imsave(os.path.join(save_path,\"%d_predict.png\"%i),img_as_ubyte(img))\n",
      "c:\\Users\\user\\Desktop\\U-Net\\data.py:124: UserWarning: img\\folder1\\predict\\\\37\\26_predict.png is a low contrast image\n",
      "  io.imsave(os.path.join(save_path,\"%d_predict.png\"%i),img_as_ubyte(img))\n",
      "c:\\Users\\user\\Desktop\\U-Net\\data.py:124: UserWarning: img\\folder1\\predict\\\\37\\32_predict.png is a low contrast image\n",
      "  io.imsave(os.path.join(save_path,\"%d_predict.png\"%i),img_as_ubyte(img))\n"
     ]
    },
    {
     "name": "stdout",
     "output_type": "stream",
     "text": [
      "Epoch 1/1\n",
      "   1/5000 [..............................] - ETA: 6:58 - loss: 0.0028 - acc: 0.9987"
     ]
    },
    {
     "name": "stderr",
     "output_type": "stream",
     "text": [
      "c:\\Users\\user\\Desktop\\U-Net\\data.py:124: UserWarning: img\\folder1\\predict\\\\37\\33_predict.png is a low contrast image\n",
      "  io.imsave(os.path.join(save_path,\"%d_predict.png\"%i),img_as_ubyte(img))\n",
      "c:\\Users\\user\\Desktop\\U-Net\\data.py:124: UserWarning: img\\folder1\\predict\\\\37\\36_predict.png is a low contrast image\n",
      "  io.imsave(os.path.join(save_path,\"%d_predict.png\"%i),img_as_ubyte(img))\n",
      "c:\\Users\\user\\Desktop\\U-Net\\data.py:124: UserWarning: img\\folder1\\predict\\\\37\\42_predict.png is a low contrast image\n",
      "  io.imsave(os.path.join(save_path,\"%d_predict.png\"%i),img_as_ubyte(img))\n"
     ]
    },
    {
     "name": "stdout",
     "output_type": "stream",
     "text": [
      "5000/5000 [==============================] - 391s 78ms/step - loss: 0.0026 - acc: 0.9989\n",
      "\n",
      "Epoch 00001: loss improved from 0.00272 to 0.00258, saving model to unet_membrane.hdf5\n",
      "45/45 [==============================] - 1s 20ms/step\n"
     ]
    },
    {
     "name": "stderr",
     "output_type": "stream",
     "text": [
      "c:\\Users\\user\\Desktop\\U-Net\\data.py:124: UserWarning: img\\folder1\\predict\\\\38\\0_predict.png is a low contrast image\n",
      "  io.imsave(os.path.join(save_path,\"%d_predict.png\"%i),img_as_ubyte(img))\n",
      "c:\\Users\\user\\Desktop\\U-Net\\data.py:124: UserWarning: img\\folder1\\predict\\\\38\\1_predict.png is a low contrast image\n",
      "  io.imsave(os.path.join(save_path,\"%d_predict.png\"%i),img_as_ubyte(img))\n",
      "c:\\Users\\user\\Desktop\\U-Net\\data.py:124: UserWarning: img\\folder1\\predict\\\\38\\7_predict.png is a low contrast image\n",
      "  io.imsave(os.path.join(save_path,\"%d_predict.png\"%i),img_as_ubyte(img))\n",
      "c:\\Users\\user\\Desktop\\U-Net\\data.py:124: UserWarning: img\\folder1\\predict\\\\38\\16_predict.png is a low contrast image\n",
      "  io.imsave(os.path.join(save_path,\"%d_predict.png\"%i),img_as_ubyte(img))\n",
      "c:\\Users\\user\\Desktop\\U-Net\\data.py:124: UserWarning: img\\folder1\\predict\\\\38\\21_predict.png is a low contrast image\n",
      "  io.imsave(os.path.join(save_path,\"%d_predict.png\"%i),img_as_ubyte(img))\n",
      "c:\\Users\\user\\Desktop\\U-Net\\data.py:124: UserWarning: img\\folder1\\predict\\\\38\\26_predict.png is a low contrast image\n",
      "  io.imsave(os.path.join(save_path,\"%d_predict.png\"%i),img_as_ubyte(img))\n",
      "c:\\Users\\user\\Desktop\\U-Net\\data.py:124: UserWarning: img\\folder1\\predict\\\\38\\33_predict.png is a low contrast image\n",
      "  io.imsave(os.path.join(save_path,\"%d_predict.png\"%i),img_as_ubyte(img))\n"
     ]
    },
    {
     "name": "stdout",
     "output_type": "stream",
     "text": [
      "Epoch 1/1\n",
      "5000/5000 [==============================] - 391s 78ms/step - loss: 0.0026 - acc: 0.9989\n",
      "\n",
      "Epoch 00001: loss did not improve from 0.00258\n",
      "45/45 [==============================] - 1s 21ms/step\n"
     ]
    },
    {
     "name": "stderr",
     "output_type": "stream",
     "text": [
      "c:\\Users\\user\\Desktop\\U-Net\\data.py:124: UserWarning: img\\folder1\\predict\\\\39\\0_predict.png is a low contrast image\n",
      "  io.imsave(os.path.join(save_path,\"%d_predict.png\"%i),img_as_ubyte(img))\n",
      "c:\\Users\\user\\Desktop\\U-Net\\data.py:124: UserWarning: img\\folder1\\predict\\\\39\\1_predict.png is a low contrast image\n",
      "  io.imsave(os.path.join(save_path,\"%d_predict.png\"%i),img_as_ubyte(img))\n",
      "c:\\Users\\user\\Desktop\\U-Net\\data.py:124: UserWarning: img\\folder1\\predict\\\\39\\2_predict.png is a low contrast image\n",
      "  io.imsave(os.path.join(save_path,\"%d_predict.png\"%i),img_as_ubyte(img))\n",
      "c:\\Users\\user\\Desktop\\U-Net\\data.py:124: UserWarning: img\\folder1\\predict\\\\39\\16_predict.png is a low contrast image\n",
      "  io.imsave(os.path.join(save_path,\"%d_predict.png\"%i),img_as_ubyte(img))\n",
      "c:\\Users\\user\\Desktop\\U-Net\\data.py:124: UserWarning: img\\folder1\\predict\\\\39\\21_predict.png is a low contrast image\n",
      "  io.imsave(os.path.join(save_path,\"%d_predict.png\"%i),img_as_ubyte(img))\n",
      "c:\\Users\\user\\Desktop\\U-Net\\data.py:124: UserWarning: img\\folder1\\predict\\\\39\\26_predict.png is a low contrast image\n",
      "  io.imsave(os.path.join(save_path,\"%d_predict.png\"%i),img_as_ubyte(img))\n"
     ]
    },
    {
     "name": "stdout",
     "output_type": "stream",
     "text": [
      "Epoch 1/1\n",
      "   1/5000 [..............................] - ETA: 7:02 - loss: 0.0018 - acc: 0.9994"
     ]
    },
    {
     "name": "stderr",
     "output_type": "stream",
     "text": [
      "c:\\Users\\user\\Desktop\\U-Net\\data.py:124: UserWarning: img\\folder1\\predict\\\\39\\36_predict.png is a low contrast image\n",
      "  io.imsave(os.path.join(save_path,\"%d_predict.png\"%i),img_as_ubyte(img))\n"
     ]
    },
    {
     "name": "stdout",
     "output_type": "stream",
     "text": [
      "5000/5000 [==============================] - 390s 78ms/step - loss: 0.0025 - acc: 0.9990\n",
      "\n",
      "Epoch 00001: loss improved from 0.00258 to 0.00250, saving model to unet_membrane.hdf5\n",
      "45/45 [==============================] - 1s 20ms/step\n"
     ]
    },
    {
     "name": "stderr",
     "output_type": "stream",
     "text": [
      "c:\\Users\\user\\Desktop\\U-Net\\data.py:124: UserWarning: img\\folder1\\predict\\\\40\\0_predict.png is a low contrast image\n",
      "  io.imsave(os.path.join(save_path,\"%d_predict.png\"%i),img_as_ubyte(img))\n",
      "c:\\Users\\user\\Desktop\\U-Net\\data.py:124: UserWarning: img\\folder1\\predict\\\\40\\1_predict.png is a low contrast image\n",
      "  io.imsave(os.path.join(save_path,\"%d_predict.png\"%i),img_as_ubyte(img))\n",
      "c:\\Users\\user\\Desktop\\U-Net\\data.py:124: UserWarning: img\\folder1\\predict\\\\40\\2_predict.png is a low contrast image\n",
      "  io.imsave(os.path.join(save_path,\"%d_predict.png\"%i),img_as_ubyte(img))\n",
      "c:\\Users\\user\\Desktop\\U-Net\\data.py:124: UserWarning: img\\folder1\\predict\\\\40\\7_predict.png is a low contrast image\n",
      "  io.imsave(os.path.join(save_path,\"%d_predict.png\"%i),img_as_ubyte(img))\n",
      "c:\\Users\\user\\Desktop\\U-Net\\data.py:124: UserWarning: img\\folder1\\predict\\\\40\\16_predict.png is a low contrast image\n",
      "  io.imsave(os.path.join(save_path,\"%d_predict.png\"%i),img_as_ubyte(img))\n",
      "c:\\Users\\user\\Desktop\\U-Net\\data.py:124: UserWarning: img\\folder1\\predict\\\\40\\21_predict.png is a low contrast image\n",
      "  io.imsave(os.path.join(save_path,\"%d_predict.png\"%i),img_as_ubyte(img))\n",
      "c:\\Users\\user\\Desktop\\U-Net\\data.py:124: UserWarning: img\\folder1\\predict\\\\40\\24_predict.png is a low contrast image\n",
      "  io.imsave(os.path.join(save_path,\"%d_predict.png\"%i),img_as_ubyte(img))\n",
      "c:\\Users\\user\\Desktop\\U-Net\\data.py:124: UserWarning: img\\folder1\\predict\\\\40\\26_predict.png is a low contrast image\n",
      "  io.imsave(os.path.join(save_path,\"%d_predict.png\"%i),img_as_ubyte(img))\n",
      "c:\\Users\\user\\Desktop\\U-Net\\data.py:124: UserWarning: img\\folder1\\predict\\\\40\\32_predict.png is a low contrast image\n",
      "  io.imsave(os.path.join(save_path,\"%d_predict.png\"%i),img_as_ubyte(img))\n"
     ]
    },
    {
     "name": "stdout",
     "output_type": "stream",
     "text": [
      "Epoch 1/1\n",
      "   1/5000 [..............................] - ETA: 7:03 - loss: 0.0014 - acc: 0.9995"
     ]
    },
    {
     "name": "stderr",
     "output_type": "stream",
     "text": [
      "c:\\Users\\user\\Desktop\\U-Net\\data.py:124: UserWarning: img\\folder1\\predict\\\\40\\33_predict.png is a low contrast image\n",
      "  io.imsave(os.path.join(save_path,\"%d_predict.png\"%i),img_as_ubyte(img))\n",
      "c:\\Users\\user\\Desktop\\U-Net\\data.py:124: UserWarning: img\\folder1\\predict\\\\40\\42_predict.png is a low contrast image\n",
      "  io.imsave(os.path.join(save_path,\"%d_predict.png\"%i),img_as_ubyte(img))\n"
     ]
    },
    {
     "name": "stdout",
     "output_type": "stream",
     "text": [
      "5000/5000 [==============================] - 390s 78ms/step - loss: 0.0025 - acc: 0.9990\n",
      "\n",
      "Epoch 00001: loss did not improve from 0.00250\n",
      "45/45 [==============================] - 1s 21ms/step\n"
     ]
    },
    {
     "name": "stderr",
     "output_type": "stream",
     "text": [
      "c:\\Users\\user\\Desktop\\U-Net\\data.py:124: UserWarning: img\\folder1\\predict\\\\41\\0_predict.png is a low contrast image\n",
      "  io.imsave(os.path.join(save_path,\"%d_predict.png\"%i),img_as_ubyte(img))\n",
      "c:\\Users\\user\\Desktop\\U-Net\\data.py:124: UserWarning: img\\folder1\\predict\\\\41\\1_predict.png is a low contrast image\n",
      "  io.imsave(os.path.join(save_path,\"%d_predict.png\"%i),img_as_ubyte(img))\n",
      "c:\\Users\\user\\Desktop\\U-Net\\data.py:124: UserWarning: img\\folder1\\predict\\\\41\\2_predict.png is a low contrast image\n",
      "  io.imsave(os.path.join(save_path,\"%d_predict.png\"%i),img_as_ubyte(img))\n",
      "c:\\Users\\user\\Desktop\\U-Net\\data.py:124: UserWarning: img\\folder1\\predict\\\\41\\16_predict.png is a low contrast image\n",
      "  io.imsave(os.path.join(save_path,\"%d_predict.png\"%i),img_as_ubyte(img))\n",
      "c:\\Users\\user\\Desktop\\U-Net\\data.py:124: UserWarning: img\\folder1\\predict\\\\41\\21_predict.png is a low contrast image\n",
      "  io.imsave(os.path.join(save_path,\"%d_predict.png\"%i),img_as_ubyte(img))\n",
      "c:\\Users\\user\\Desktop\\U-Net\\data.py:124: UserWarning: img\\folder1\\predict\\\\41\\26_predict.png is a low contrast image\n",
      "  io.imsave(os.path.join(save_path,\"%d_predict.png\"%i),img_as_ubyte(img))\n",
      "c:\\Users\\user\\Desktop\\U-Net\\data.py:124: UserWarning: img\\folder1\\predict\\\\41\\32_predict.png is a low contrast image\n",
      "  io.imsave(os.path.join(save_path,\"%d_predict.png\"%i),img_as_ubyte(img))\n"
     ]
    },
    {
     "name": "stdout",
     "output_type": "stream",
     "text": [
      "Epoch 1/1\n",
      "   1/5000 [..............................] - ETA: 7:03 - loss: 0.0036 - acc: 0.9986"
     ]
    },
    {
     "name": "stderr",
     "output_type": "stream",
     "text": [
      "c:\\Users\\user\\Desktop\\U-Net\\data.py:124: UserWarning: img\\folder1\\predict\\\\41\\33_predict.png is a low contrast image\n",
      "  io.imsave(os.path.join(save_path,\"%d_predict.png\"%i),img_as_ubyte(img))\n",
      "c:\\Users\\user\\Desktop\\U-Net\\data.py:124: UserWarning: img\\folder1\\predict\\\\41\\36_predict.png is a low contrast image\n",
      "  io.imsave(os.path.join(save_path,\"%d_predict.png\"%i),img_as_ubyte(img))\n",
      "c:\\Users\\user\\Desktop\\U-Net\\data.py:124: UserWarning: img\\folder1\\predict\\\\41\\37_predict.png is a low contrast image\n",
      "  io.imsave(os.path.join(save_path,\"%d_predict.png\"%i),img_as_ubyte(img))\n"
     ]
    },
    {
     "name": "stdout",
     "output_type": "stream",
     "text": [
      "5000/5000 [==============================] - 390s 78ms/step - loss: 0.0024 - acc: 0.9990\n",
      "\n",
      "Epoch 00001: loss improved from 0.00250 to 0.00244, saving model to unet_membrane.hdf5\n",
      "45/45 [==============================] - 1s 20ms/step\n"
     ]
    },
    {
     "name": "stderr",
     "output_type": "stream",
     "text": [
      "c:\\Users\\user\\Desktop\\U-Net\\data.py:124: UserWarning: img\\folder1\\predict\\\\42\\0_predict.png is a low contrast image\n",
      "  io.imsave(os.path.join(save_path,\"%d_predict.png\"%i),img_as_ubyte(img))\n",
      "c:\\Users\\user\\Desktop\\U-Net\\data.py:124: UserWarning: img\\folder1\\predict\\\\42\\1_predict.png is a low contrast image\n",
      "  io.imsave(os.path.join(save_path,\"%d_predict.png\"%i),img_as_ubyte(img))\n",
      "c:\\Users\\user\\Desktop\\U-Net\\data.py:124: UserWarning: img\\folder1\\predict\\\\42\\2_predict.png is a low contrast image\n",
      "  io.imsave(os.path.join(save_path,\"%d_predict.png\"%i),img_as_ubyte(img))\n",
      "c:\\Users\\user\\Desktop\\U-Net\\data.py:124: UserWarning: img\\folder1\\predict\\\\42\\7_predict.png is a low contrast image\n",
      "  io.imsave(os.path.join(save_path,\"%d_predict.png\"%i),img_as_ubyte(img))\n",
      "c:\\Users\\user\\Desktop\\U-Net\\data.py:124: UserWarning: img\\folder1\\predict\\\\42\\16_predict.png is a low contrast image\n",
      "  io.imsave(os.path.join(save_path,\"%d_predict.png\"%i),img_as_ubyte(img))\n",
      "c:\\Users\\user\\Desktop\\U-Net\\data.py:124: UserWarning: img\\folder1\\predict\\\\42\\21_predict.png is a low contrast image\n",
      "  io.imsave(os.path.join(save_path,\"%d_predict.png\"%i),img_as_ubyte(img))\n",
      "c:\\Users\\user\\Desktop\\U-Net\\data.py:124: UserWarning: img\\folder1\\predict\\\\42\\24_predict.png is a low contrast image\n",
      "  io.imsave(os.path.join(save_path,\"%d_predict.png\"%i),img_as_ubyte(img))\n",
      "c:\\Users\\user\\Desktop\\U-Net\\data.py:124: UserWarning: img\\folder1\\predict\\\\42\\26_predict.png is a low contrast image\n",
      "  io.imsave(os.path.join(save_path,\"%d_predict.png\"%i),img_as_ubyte(img))\n",
      "c:\\Users\\user\\Desktop\\U-Net\\data.py:124: UserWarning: img\\folder1\\predict\\\\42\\29_predict.png is a low contrast image\n",
      "  io.imsave(os.path.join(save_path,\"%d_predict.png\"%i),img_as_ubyte(img))\n",
      "c:\\Users\\user\\Desktop\\U-Net\\data.py:124: UserWarning: img\\folder1\\predict\\\\42\\30_predict.png is a low contrast image\n",
      "  io.imsave(os.path.join(save_path,\"%d_predict.png\"%i),img_as_ubyte(img))\n",
      "c:\\Users\\user\\Desktop\\U-Net\\data.py:124: UserWarning: img\\folder1\\predict\\\\42\\32_predict.png is a low contrast image\n",
      "  io.imsave(os.path.join(save_path,\"%d_predict.png\"%i),img_as_ubyte(img))\n"
     ]
    },
    {
     "name": "stdout",
     "output_type": "stream",
     "text": [
      "Epoch 1/1\n",
      "   1/5000 [..............................] - ETA: 7:04 - loss: 0.0013 - acc: 0.9995"
     ]
    },
    {
     "name": "stderr",
     "output_type": "stream",
     "text": [
      "c:\\Users\\user\\Desktop\\U-Net\\data.py:124: UserWarning: img\\folder1\\predict\\\\42\\33_predict.png is a low contrast image\n",
      "  io.imsave(os.path.join(save_path,\"%d_predict.png\"%i),img_as_ubyte(img))\n",
      "c:\\Users\\user\\Desktop\\U-Net\\data.py:124: UserWarning: img\\folder1\\predict\\\\42\\36_predict.png is a low contrast image\n",
      "  io.imsave(os.path.join(save_path,\"%d_predict.png\"%i),img_as_ubyte(img))\n",
      "c:\\Users\\user\\Desktop\\U-Net\\data.py:124: UserWarning: img\\folder1\\predict\\\\42\\42_predict.png is a low contrast image\n",
      "  io.imsave(os.path.join(save_path,\"%d_predict.png\"%i),img_as_ubyte(img))\n"
     ]
    },
    {
     "name": "stdout",
     "output_type": "stream",
     "text": [
      "5000/5000 [==============================] - 390s 78ms/step - loss: 0.0025 - acc: 0.9990\n",
      "\n",
      "Epoch 00001: loss did not improve from 0.00244\n",
      "45/45 [==============================] - 1s 20ms/step\n"
     ]
    },
    {
     "name": "stderr",
     "output_type": "stream",
     "text": [
      "c:\\Users\\user\\Desktop\\U-Net\\data.py:124: UserWarning: img\\folder1\\predict\\\\43\\0_predict.png is a low contrast image\n",
      "  io.imsave(os.path.join(save_path,\"%d_predict.png\"%i),img_as_ubyte(img))\n",
      "c:\\Users\\user\\Desktop\\U-Net\\data.py:124: UserWarning: img\\folder1\\predict\\\\43\\1_predict.png is a low contrast image\n",
      "  io.imsave(os.path.join(save_path,\"%d_predict.png\"%i),img_as_ubyte(img))\n",
      "c:\\Users\\user\\Desktop\\U-Net\\data.py:124: UserWarning: img\\folder1\\predict\\\\43\\7_predict.png is a low contrast image\n",
      "  io.imsave(os.path.join(save_path,\"%d_predict.png\"%i),img_as_ubyte(img))\n",
      "c:\\Users\\user\\Desktop\\U-Net\\data.py:124: UserWarning: img\\folder1\\predict\\\\43\\11_predict.png is a low contrast image\n",
      "  io.imsave(os.path.join(save_path,\"%d_predict.png\"%i),img_as_ubyte(img))\n",
      "c:\\Users\\user\\Desktop\\U-Net\\data.py:124: UserWarning: img\\folder1\\predict\\\\43\\15_predict.png is a low contrast image\n",
      "  io.imsave(os.path.join(save_path,\"%d_predict.png\"%i),img_as_ubyte(img))\n",
      "c:\\Users\\user\\Desktop\\U-Net\\data.py:124: UserWarning: img\\folder1\\predict\\\\43\\16_predict.png is a low contrast image\n",
      "  io.imsave(os.path.join(save_path,\"%d_predict.png\"%i),img_as_ubyte(img))\n",
      "c:\\Users\\user\\Desktop\\U-Net\\data.py:124: UserWarning: img\\folder1\\predict\\\\43\\21_predict.png is a low contrast image\n",
      "  io.imsave(os.path.join(save_path,\"%d_predict.png\"%i),img_as_ubyte(img))\n",
      "c:\\Users\\user\\Desktop\\U-Net\\data.py:124: UserWarning: img\\folder1\\predict\\\\43\\26_predict.png is a low contrast image\n",
      "  io.imsave(os.path.join(save_path,\"%d_predict.png\"%i),img_as_ubyte(img))\n",
      "c:\\Users\\user\\Desktop\\U-Net\\data.py:124: UserWarning: img\\folder1\\predict\\\\43\\32_predict.png is a low contrast image\n",
      "  io.imsave(os.path.join(save_path,\"%d_predict.png\"%i),img_as_ubyte(img))\n",
      "c:\\Users\\user\\Desktop\\U-Net\\data.py:124: UserWarning: img\\folder1\\predict\\\\43\\33_predict.png is a low contrast image\n",
      "  io.imsave(os.path.join(save_path,\"%d_predict.png\"%i),img_as_ubyte(img))\n"
     ]
    },
    {
     "name": "stdout",
     "output_type": "stream",
     "text": [
      "Epoch 1/1\n",
      "   2/5000 [..............................] - ETA: 6:43 - loss: 0.0018 - acc: 0.9992"
     ]
    },
    {
     "name": "stderr",
     "output_type": "stream",
     "text": [
      "c:\\Users\\user\\Desktop\\U-Net\\data.py:124: UserWarning: img\\folder1\\predict\\\\43\\42_predict.png is a low contrast image\n",
      "  io.imsave(os.path.join(save_path,\"%d_predict.png\"%i),img_as_ubyte(img))\n"
     ]
    },
    {
     "name": "stdout",
     "output_type": "stream",
     "text": [
      "5000/5000 [==============================] - 390s 78ms/step - loss: 0.0024 - acc: 0.9990\n",
      "\n",
      "Epoch 00001: loss improved from 0.00244 to 0.00235, saving model to unet_membrane.hdf5\n",
      "45/45 [==============================] - 1s 20ms/step\n"
     ]
    },
    {
     "name": "stderr",
     "output_type": "stream",
     "text": [
      "c:\\Users\\user\\Desktop\\U-Net\\data.py:124: UserWarning: img\\folder1\\predict\\\\44\\0_predict.png is a low contrast image\n",
      "  io.imsave(os.path.join(save_path,\"%d_predict.png\"%i),img_as_ubyte(img))\n",
      "c:\\Users\\user\\Desktop\\U-Net\\data.py:124: UserWarning: img\\folder1\\predict\\\\44\\1_predict.png is a low contrast image\n",
      "  io.imsave(os.path.join(save_path,\"%d_predict.png\"%i),img_as_ubyte(img))\n",
      "c:\\Users\\user\\Desktop\\U-Net\\data.py:124: UserWarning: img\\folder1\\predict\\\\44\\2_predict.png is a low contrast image\n",
      "  io.imsave(os.path.join(save_path,\"%d_predict.png\"%i),img_as_ubyte(img))\n",
      "c:\\Users\\user\\Desktop\\U-Net\\data.py:124: UserWarning: img\\folder1\\predict\\\\44\\7_predict.png is a low contrast image\n",
      "  io.imsave(os.path.join(save_path,\"%d_predict.png\"%i),img_as_ubyte(img))\n",
      "c:\\Users\\user\\Desktop\\U-Net\\data.py:124: UserWarning: img\\folder1\\predict\\\\44\\15_predict.png is a low contrast image\n",
      "  io.imsave(os.path.join(save_path,\"%d_predict.png\"%i),img_as_ubyte(img))\n",
      "c:\\Users\\user\\Desktop\\U-Net\\data.py:124: UserWarning: img\\folder1\\predict\\\\44\\16_predict.png is a low contrast image\n",
      "  io.imsave(os.path.join(save_path,\"%d_predict.png\"%i),img_as_ubyte(img))\n",
      "c:\\Users\\user\\Desktop\\U-Net\\data.py:124: UserWarning: img\\folder1\\predict\\\\44\\21_predict.png is a low contrast image\n",
      "  io.imsave(os.path.join(save_path,\"%d_predict.png\"%i),img_as_ubyte(img))\n",
      "c:\\Users\\user\\Desktop\\U-Net\\data.py:124: UserWarning: img\\folder1\\predict\\\\44\\26_predict.png is a low contrast image\n",
      "  io.imsave(os.path.join(save_path,\"%d_predict.png\"%i),img_as_ubyte(img))\n",
      "c:\\Users\\user\\Desktop\\U-Net\\data.py:124: UserWarning: img\\folder1\\predict\\\\44\\33_predict.png is a low contrast image\n",
      "  io.imsave(os.path.join(save_path,\"%d_predict.png\"%i),img_as_ubyte(img))\n"
     ]
    },
    {
     "name": "stdout",
     "output_type": "stream",
     "text": [
      "Epoch 1/1\n",
      "   2/5000 [..............................] - ETA: 6:43 - loss: 0.0015 - acc: 0.9994"
     ]
    },
    {
     "name": "stderr",
     "output_type": "stream",
     "text": [
      "c:\\Users\\user\\Desktop\\U-Net\\data.py:124: UserWarning: img\\folder1\\predict\\\\44\\42_predict.png is a low contrast image\n",
      "  io.imsave(os.path.join(save_path,\"%d_predict.png\"%i),img_as_ubyte(img))\n"
     ]
    },
    {
     "name": "stdout",
     "output_type": "stream",
     "text": [
      "5000/5000 [==============================] - 390s 78ms/step - loss: 0.0023 - acc: 0.9990\n",
      "\n",
      "Epoch 00001: loss improved from 0.00235 to 0.00232, saving model to unet_membrane.hdf5\n",
      "45/45 [==============================] - 1s 20ms/step\n"
     ]
    },
    {
     "name": "stderr",
     "output_type": "stream",
     "text": [
      "c:\\Users\\user\\Desktop\\U-Net\\data.py:124: UserWarning: img\\folder1\\predict\\\\45\\0_predict.png is a low contrast image\n",
      "  io.imsave(os.path.join(save_path,\"%d_predict.png\"%i),img_as_ubyte(img))\n",
      "c:\\Users\\user\\Desktop\\U-Net\\data.py:124: UserWarning: img\\folder1\\predict\\\\45\\1_predict.png is a low contrast image\n",
      "  io.imsave(os.path.join(save_path,\"%d_predict.png\"%i),img_as_ubyte(img))\n",
      "c:\\Users\\user\\Desktop\\U-Net\\data.py:124: UserWarning: img\\folder1\\predict\\\\45\\2_predict.png is a low contrast image\n",
      "  io.imsave(os.path.join(save_path,\"%d_predict.png\"%i),img_as_ubyte(img))\n",
      "c:\\Users\\user\\Desktop\\U-Net\\data.py:124: UserWarning: img\\folder1\\predict\\\\45\\7_predict.png is a low contrast image\n",
      "  io.imsave(os.path.join(save_path,\"%d_predict.png\"%i),img_as_ubyte(img))\n",
      "c:\\Users\\user\\Desktop\\U-Net\\data.py:124: UserWarning: img\\folder1\\predict\\\\45\\16_predict.png is a low contrast image\n",
      "  io.imsave(os.path.join(save_path,\"%d_predict.png\"%i),img_as_ubyte(img))\n",
      "c:\\Users\\user\\Desktop\\U-Net\\data.py:124: UserWarning: img\\folder1\\predict\\\\45\\21_predict.png is a low contrast image\n",
      "  io.imsave(os.path.join(save_path,\"%d_predict.png\"%i),img_as_ubyte(img))\n",
      "c:\\Users\\user\\Desktop\\U-Net\\data.py:124: UserWarning: img\\folder1\\predict\\\\45\\26_predict.png is a low contrast image\n",
      "  io.imsave(os.path.join(save_path,\"%d_predict.png\"%i),img_as_ubyte(img))\n"
     ]
    },
    {
     "name": "stdout",
     "output_type": "stream",
     "text": [
      "Epoch 1/1\n",
      "   1/5000 [..............................] - ETA: 7:03 - loss: 0.0038 - acc: 0.9984"
     ]
    },
    {
     "name": "stderr",
     "output_type": "stream",
     "text": [
      "c:\\Users\\user\\Desktop\\U-Net\\data.py:124: UserWarning: img\\folder1\\predict\\\\45\\33_predict.png is a low contrast image\n",
      "  io.imsave(os.path.join(save_path,\"%d_predict.png\"%i),img_as_ubyte(img))\n"
     ]
    },
    {
     "name": "stdout",
     "output_type": "stream",
     "text": [
      "5000/5000 [==============================] - 390s 78ms/step - loss: 0.0024 - acc: 0.9990\n",
      "\n",
      "Epoch 00001: loss did not improve from 0.00232\n",
      "45/45 [==============================] - 1s 20ms/step\n"
     ]
    },
    {
     "name": "stderr",
     "output_type": "stream",
     "text": [
      "c:\\Users\\user\\Desktop\\U-Net\\data.py:124: UserWarning: img\\folder1\\predict\\\\46\\0_predict.png is a low contrast image\n",
      "  io.imsave(os.path.join(save_path,\"%d_predict.png\"%i),img_as_ubyte(img))\n",
      "c:\\Users\\user\\Desktop\\U-Net\\data.py:124: UserWarning: img\\folder1\\predict\\\\46\\1_predict.png is a low contrast image\n",
      "  io.imsave(os.path.join(save_path,\"%d_predict.png\"%i),img_as_ubyte(img))\n",
      "c:\\Users\\user\\Desktop\\U-Net\\data.py:124: UserWarning: img\\folder1\\predict\\\\46\\2_predict.png is a low contrast image\n",
      "  io.imsave(os.path.join(save_path,\"%d_predict.png\"%i),img_as_ubyte(img))\n",
      "c:\\Users\\user\\Desktop\\U-Net\\data.py:124: UserWarning: img\\folder1\\predict\\\\46\\7_predict.png is a low contrast image\n",
      "  io.imsave(os.path.join(save_path,\"%d_predict.png\"%i),img_as_ubyte(img))\n",
      "c:\\Users\\user\\Desktop\\U-Net\\data.py:124: UserWarning: img\\folder1\\predict\\\\46\\16_predict.png is a low contrast image\n",
      "  io.imsave(os.path.join(save_path,\"%d_predict.png\"%i),img_as_ubyte(img))\n",
      "c:\\Users\\user\\Desktop\\U-Net\\data.py:124: UserWarning: img\\folder1\\predict\\\\46\\21_predict.png is a low contrast image\n",
      "  io.imsave(os.path.join(save_path,\"%d_predict.png\"%i),img_as_ubyte(img))\n",
      "c:\\Users\\user\\Desktop\\U-Net\\data.py:124: UserWarning: img\\folder1\\predict\\\\46\\26_predict.png is a low contrast image\n",
      "  io.imsave(os.path.join(save_path,\"%d_predict.png\"%i),img_as_ubyte(img))\n"
     ]
    },
    {
     "name": "stdout",
     "output_type": "stream",
     "text": [
      "Epoch 1/1\n",
      "   1/5000 [..............................] - ETA: 7:02 - loss: 0.0018 - acc: 0.9992"
     ]
    },
    {
     "name": "stderr",
     "output_type": "stream",
     "text": [
      "c:\\Users\\user\\Desktop\\U-Net\\data.py:124: UserWarning: img\\folder1\\predict\\\\46\\32_predict.png is a low contrast image\n",
      "  io.imsave(os.path.join(save_path,\"%d_predict.png\"%i),img_as_ubyte(img))\n"
     ]
    },
    {
     "name": "stdout",
     "output_type": "stream",
     "text": [
      "5000/5000 [==============================] - 390s 78ms/step - loss: 0.0023 - acc: 0.9990\n",
      "\n",
      "Epoch 00001: loss did not improve from 0.00232\n",
      "45/45 [==============================] - 1s 21ms/step\n"
     ]
    },
    {
     "name": "stderr",
     "output_type": "stream",
     "text": [
      "c:\\Users\\user\\Desktop\\U-Net\\data.py:124: UserWarning: img\\folder1\\predict\\\\47\\0_predict.png is a low contrast image\n",
      "  io.imsave(os.path.join(save_path,\"%d_predict.png\"%i),img_as_ubyte(img))\n",
      "c:\\Users\\user\\Desktop\\U-Net\\data.py:124: UserWarning: img\\folder1\\predict\\\\47\\1_predict.png is a low contrast image\n",
      "  io.imsave(os.path.join(save_path,\"%d_predict.png\"%i),img_as_ubyte(img))\n",
      "c:\\Users\\user\\Desktop\\U-Net\\data.py:124: UserWarning: img\\folder1\\predict\\\\47\\2_predict.png is a low contrast image\n",
      "  io.imsave(os.path.join(save_path,\"%d_predict.png\"%i),img_as_ubyte(img))\n",
      "c:\\Users\\user\\Desktop\\U-Net\\data.py:124: UserWarning: img\\folder1\\predict\\\\47\\7_predict.png is a low contrast image\n",
      "  io.imsave(os.path.join(save_path,\"%d_predict.png\"%i),img_as_ubyte(img))\n",
      "c:\\Users\\user\\Desktop\\U-Net\\data.py:124: UserWarning: img\\folder1\\predict\\\\47\\16_predict.png is a low contrast image\n",
      "  io.imsave(os.path.join(save_path,\"%d_predict.png\"%i),img_as_ubyte(img))\n",
      "c:\\Users\\user\\Desktop\\U-Net\\data.py:124: UserWarning: img\\folder1\\predict\\\\47\\21_predict.png is a low contrast image\n",
      "  io.imsave(os.path.join(save_path,\"%d_predict.png\"%i),img_as_ubyte(img))\n",
      "c:\\Users\\user\\Desktop\\U-Net\\data.py:124: UserWarning: img\\folder1\\predict\\\\47\\26_predict.png is a low contrast image\n",
      "  io.imsave(os.path.join(save_path,\"%d_predict.png\"%i),img_as_ubyte(img))\n",
      "c:\\Users\\user\\Desktop\\U-Net\\data.py:124: UserWarning: img\\folder1\\predict\\\\47\\32_predict.png is a low contrast image\n",
      "  io.imsave(os.path.join(save_path,\"%d_predict.png\"%i),img_as_ubyte(img))\n",
      "c:\\Users\\user\\Desktop\\U-Net\\data.py:124: UserWarning: img\\folder1\\predict\\\\47\\37_predict.png is a low contrast image\n",
      "  io.imsave(os.path.join(save_path,\"%d_predict.png\"%i),img_as_ubyte(img))\n"
     ]
    },
    {
     "name": "stdout",
     "output_type": "stream",
     "text": [
      "Epoch 1/1\n",
      "5000/5000 [==============================] - 390s 78ms/step - loss: 0.0022 - acc: 0.9991\n",
      "\n",
      "Epoch 00001: loss improved from 0.00232 to 0.00221, saving model to unet_membrane.hdf5\n",
      "45/45 [==============================] - 1s 20ms/step\n"
     ]
    },
    {
     "name": "stderr",
     "output_type": "stream",
     "text": [
      "c:\\Users\\user\\Desktop\\U-Net\\data.py:124: UserWarning: img\\folder1\\predict\\\\48\\0_predict.png is a low contrast image\n",
      "  io.imsave(os.path.join(save_path,\"%d_predict.png\"%i),img_as_ubyte(img))\n",
      "c:\\Users\\user\\Desktop\\U-Net\\data.py:124: UserWarning: img\\folder1\\predict\\\\48\\1_predict.png is a low contrast image\n",
      "  io.imsave(os.path.join(save_path,\"%d_predict.png\"%i),img_as_ubyte(img))\n",
      "c:\\Users\\user\\Desktop\\U-Net\\data.py:124: UserWarning: img\\folder1\\predict\\\\48\\2_predict.png is a low contrast image\n",
      "  io.imsave(os.path.join(save_path,\"%d_predict.png\"%i),img_as_ubyte(img))\n",
      "c:\\Users\\user\\Desktop\\U-Net\\data.py:124: UserWarning: img\\folder1\\predict\\\\48\\7_predict.png is a low contrast image\n",
      "  io.imsave(os.path.join(save_path,\"%d_predict.png\"%i),img_as_ubyte(img))\n",
      "c:\\Users\\user\\Desktop\\U-Net\\data.py:124: UserWarning: img\\folder1\\predict\\\\48\\16_predict.png is a low contrast image\n",
      "  io.imsave(os.path.join(save_path,\"%d_predict.png\"%i),img_as_ubyte(img))\n",
      "c:\\Users\\user\\Desktop\\U-Net\\data.py:124: UserWarning: img\\folder1\\predict\\\\48\\17_predict.png is a low contrast image\n",
      "  io.imsave(os.path.join(save_path,\"%d_predict.png\"%i),img_as_ubyte(img))\n",
      "c:\\Users\\user\\Desktop\\U-Net\\data.py:124: UserWarning: img\\folder1\\predict\\\\48\\21_predict.png is a low contrast image\n",
      "  io.imsave(os.path.join(save_path,\"%d_predict.png\"%i),img_as_ubyte(img))\n",
      "c:\\Users\\user\\Desktop\\U-Net\\data.py:124: UserWarning: img\\folder1\\predict\\\\48\\24_predict.png is a low contrast image\n",
      "  io.imsave(os.path.join(save_path,\"%d_predict.png\"%i),img_as_ubyte(img))\n",
      "c:\\Users\\user\\Desktop\\U-Net\\data.py:124: UserWarning: img\\folder1\\predict\\\\48\\26_predict.png is a low contrast image\n",
      "  io.imsave(os.path.join(save_path,\"%d_predict.png\"%i),img_as_ubyte(img))\n",
      "c:\\Users\\user\\Desktop\\U-Net\\data.py:124: UserWarning: img\\folder1\\predict\\\\48\\29_predict.png is a low contrast image\n",
      "  io.imsave(os.path.join(save_path,\"%d_predict.png\"%i),img_as_ubyte(img))\n",
      "c:\\Users\\user\\Desktop\\U-Net\\data.py:124: UserWarning: img\\folder1\\predict\\\\48\\32_predict.png is a low contrast image\n",
      "  io.imsave(os.path.join(save_path,\"%d_predict.png\"%i),img_as_ubyte(img))\n"
     ]
    },
    {
     "name": "stdout",
     "output_type": "stream",
     "text": [
      "Epoch 1/1\n",
      "   1/5000 [..............................] - ETA: 7:03 - loss: 0.0059 - acc: 0.9973"
     ]
    },
    {
     "name": "stderr",
     "output_type": "stream",
     "text": [
      "c:\\Users\\user\\Desktop\\U-Net\\data.py:124: UserWarning: img\\folder1\\predict\\\\48\\33_predict.png is a low contrast image\n",
      "  io.imsave(os.path.join(save_path,\"%d_predict.png\"%i),img_as_ubyte(img))\n",
      "c:\\Users\\user\\Desktop\\U-Net\\data.py:124: UserWarning: img\\folder1\\predict\\\\48\\36_predict.png is a low contrast image\n",
      "  io.imsave(os.path.join(save_path,\"%d_predict.png\"%i),img_as_ubyte(img))\n",
      "c:\\Users\\user\\Desktop\\U-Net\\data.py:124: UserWarning: img\\folder1\\predict\\\\48\\37_predict.png is a low contrast image\n",
      "  io.imsave(os.path.join(save_path,\"%d_predict.png\"%i),img_as_ubyte(img))\n",
      "c:\\Users\\user\\Desktop\\U-Net\\data.py:124: UserWarning: img\\folder1\\predict\\\\48\\42_predict.png is a low contrast image\n",
      "  io.imsave(os.path.join(save_path,\"%d_predict.png\"%i),img_as_ubyte(img))\n"
     ]
    },
    {
     "name": "stdout",
     "output_type": "stream",
     "text": [
      "5000/5000 [==============================] - 390s 78ms/step - loss: 0.0022 - acc: 0.9991\n",
      "\n",
      "Epoch 00001: loss improved from 0.00221 to 0.00219, saving model to unet_membrane.hdf5\n",
      "45/45 [==============================] - 1s 20ms/step\n"
     ]
    },
    {
     "name": "stderr",
     "output_type": "stream",
     "text": [
      "c:\\Users\\user\\Desktop\\U-Net\\data.py:124: UserWarning: img\\folder1\\predict\\\\49\\0_predict.png is a low contrast image\n",
      "  io.imsave(os.path.join(save_path,\"%d_predict.png\"%i),img_as_ubyte(img))\n",
      "c:\\Users\\user\\Desktop\\U-Net\\data.py:124: UserWarning: img\\folder1\\predict\\\\49\\1_predict.png is a low contrast image\n",
      "  io.imsave(os.path.join(save_path,\"%d_predict.png\"%i),img_as_ubyte(img))\n",
      "c:\\Users\\user\\Desktop\\U-Net\\data.py:124: UserWarning: img\\folder1\\predict\\\\49\\2_predict.png is a low contrast image\n",
      "  io.imsave(os.path.join(save_path,\"%d_predict.png\"%i),img_as_ubyte(img))\n",
      "c:\\Users\\user\\Desktop\\U-Net\\data.py:124: UserWarning: img\\folder1\\predict\\\\49\\7_predict.png is a low contrast image\n",
      "  io.imsave(os.path.join(save_path,\"%d_predict.png\"%i),img_as_ubyte(img))\n",
      "c:\\Users\\user\\Desktop\\U-Net\\data.py:124: UserWarning: img\\folder1\\predict\\\\49\\16_predict.png is a low contrast image\n",
      "  io.imsave(os.path.join(save_path,\"%d_predict.png\"%i),img_as_ubyte(img))\n",
      "c:\\Users\\user\\Desktop\\U-Net\\data.py:124: UserWarning: img\\folder1\\predict\\\\49\\17_predict.png is a low contrast image\n",
      "  io.imsave(os.path.join(save_path,\"%d_predict.png\"%i),img_as_ubyte(img))\n",
      "c:\\Users\\user\\Desktop\\U-Net\\data.py:124: UserWarning: img\\folder1\\predict\\\\49\\21_predict.png is a low contrast image\n",
      "  io.imsave(os.path.join(save_path,\"%d_predict.png\"%i),img_as_ubyte(img))\n",
      "c:\\Users\\user\\Desktop\\U-Net\\data.py:124: UserWarning: img\\folder1\\predict\\\\49\\26_predict.png is a low contrast image\n",
      "  io.imsave(os.path.join(save_path,\"%d_predict.png\"%i),img_as_ubyte(img))\n",
      "c:\\Users\\user\\Desktop\\U-Net\\data.py:124: UserWarning: img\\folder1\\predict\\\\49\\31_predict.png is a low contrast image\n",
      "  io.imsave(os.path.join(save_path,\"%d_predict.png\"%i),img_as_ubyte(img))\n",
      "c:\\Users\\user\\Desktop\\U-Net\\data.py:124: UserWarning: img\\folder1\\predict\\\\49\\32_predict.png is a low contrast image\n",
      "  io.imsave(os.path.join(save_path,\"%d_predict.png\"%i),img_as_ubyte(img))\n",
      "c:\\Users\\user\\Desktop\\U-Net\\data.py:124: UserWarning: img\\folder1\\predict\\\\49\\33_predict.png is a low contrast image\n",
      "  io.imsave(os.path.join(save_path,\"%d_predict.png\"%i),img_as_ubyte(img))\n"
     ]
    },
    {
     "name": "stdout",
     "output_type": "stream",
     "text": [
      "Epoch 1/1\n",
      "   2/5000 [..............................] - ETA: 6:41 - loss: 0.0010 - acc: 0.9996    "
     ]
    },
    {
     "name": "stderr",
     "output_type": "stream",
     "text": [
      "c:\\Users\\user\\Desktop\\U-Net\\data.py:124: UserWarning: img\\folder1\\predict\\\\49\\42_predict.png is a low contrast image\n",
      "  io.imsave(os.path.join(save_path,\"%d_predict.png\"%i),img_as_ubyte(img))\n"
     ]
    },
    {
     "name": "stdout",
     "output_type": "stream",
     "text": [
      "5000/5000 [==============================] - 390s 78ms/step - loss: 0.0022 - acc: 0.9991\n",
      "\n",
      "Epoch 00001: loss did not improve from 0.00219\n",
      "45/45 [==============================] - 1s 20ms/step\n"
     ]
    },
    {
     "name": "stderr",
     "output_type": "stream",
     "text": [
      "c:\\Users\\user\\Desktop\\U-Net\\data.py:124: UserWarning: img\\folder1\\predict\\\\50\\0_predict.png is a low contrast image\n",
      "  io.imsave(os.path.join(save_path,\"%d_predict.png\"%i),img_as_ubyte(img))\n",
      "c:\\Users\\user\\Desktop\\U-Net\\data.py:124: UserWarning: img\\folder1\\predict\\\\50\\1_predict.png is a low contrast image\n",
      "  io.imsave(os.path.join(save_path,\"%d_predict.png\"%i),img_as_ubyte(img))\n",
      "c:\\Users\\user\\Desktop\\U-Net\\data.py:124: UserWarning: img\\folder1\\predict\\\\50\\2_predict.png is a low contrast image\n",
      "  io.imsave(os.path.join(save_path,\"%d_predict.png\"%i),img_as_ubyte(img))\n",
      "c:\\Users\\user\\Desktop\\U-Net\\data.py:124: UserWarning: img\\folder1\\predict\\\\50\\7_predict.png is a low contrast image\n",
      "  io.imsave(os.path.join(save_path,\"%d_predict.png\"%i),img_as_ubyte(img))\n",
      "c:\\Users\\user\\Desktop\\U-Net\\data.py:124: UserWarning: img\\folder1\\predict\\\\50\\16_predict.png is a low contrast image\n",
      "  io.imsave(os.path.join(save_path,\"%d_predict.png\"%i),img_as_ubyte(img))\n",
      "c:\\Users\\user\\Desktop\\U-Net\\data.py:124: UserWarning: img\\folder1\\predict\\\\50\\20_predict.png is a low contrast image\n",
      "  io.imsave(os.path.join(save_path,\"%d_predict.png\"%i),img_as_ubyte(img))\n",
      "c:\\Users\\user\\Desktop\\U-Net\\data.py:124: UserWarning: img\\folder1\\predict\\\\50\\21_predict.png is a low contrast image\n",
      "  io.imsave(os.path.join(save_path,\"%d_predict.png\"%i),img_as_ubyte(img))\n",
      "c:\\Users\\user\\Desktop\\U-Net\\data.py:124: UserWarning: img\\folder1\\predict\\\\50\\26_predict.png is a low contrast image\n",
      "  io.imsave(os.path.join(save_path,\"%d_predict.png\"%i),img_as_ubyte(img))\n",
      "c:\\Users\\user\\Desktop\\U-Net\\data.py:124: UserWarning: img\\folder1\\predict\\\\50\\31_predict.png is a low contrast image\n",
      "  io.imsave(os.path.join(save_path,\"%d_predict.png\"%i),img_as_ubyte(img))\n",
      "c:\\Users\\user\\Desktop\\U-Net\\data.py:124: UserWarning: img\\folder1\\predict\\\\50\\32_predict.png is a low contrast image\n",
      "  io.imsave(os.path.join(save_path,\"%d_predict.png\"%i),img_as_ubyte(img))\n",
      "c:\\Users\\user\\Desktop\\U-Net\\data.py:124: UserWarning: img\\folder1\\predict\\\\50\\36_predict.png is a low contrast image\n",
      "  io.imsave(os.path.join(save_path,\"%d_predict.png\"%i),img_as_ubyte(img))\n",
      "c:\\Users\\user\\Desktop\\U-Net\\data.py:124: UserWarning: img\\folder1\\predict\\\\50\\42_predict.png is a low contrast image\n",
      "  io.imsave(os.path.join(save_path,\"%d_predict.png\"%i),img_as_ubyte(img))\n"
     ]
    }
   ],
   "source": [
    "model = unet()\n",
    "model_checkpoint = ModelCheckpoint('unet_membrane.hdf5', monitor='loss',verbose=1, save_best_only=True)\n",
    "model.fit_generator(train,steps_per_epoch=5000,epochs=1,callbacks=[model_checkpoint],validation_steps=val)\n",
    "test = testGenerator(r\"img\\folder1\\test\")\n",
    "results = model.predict_generator(test,45,verbose=1)\n",
    "saveResult(r\"img\\folder1\\predict\",results)"
   ]
  }
 ],
 "metadata": {
  "kernelspec": {
   "display_name": "GPU",
   "language": "python",
   "name": "python3"
  },
  "language_info": {
   "codemirror_mode": {
    "name": "ipython",
    "version": 3
   },
   "file_extension": ".py",
   "mimetype": "text/x-python",
   "name": "python",
   "nbconvert_exporter": "python",
   "pygments_lexer": "ipython3",
   "version": "3.6.13"
  },
  "orig_nbformat": 4
 },
 "nbformat": 4,
 "nbformat_minor": 2
}
