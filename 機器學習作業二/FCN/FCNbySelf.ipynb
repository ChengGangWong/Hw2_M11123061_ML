{
 "cells": [
  {
   "cell_type": "code",
   "execution_count": 32,
   "metadata": {},
   "outputs": [],
   "source": [
    "from keras.layers import *\n",
    "from keras.optimizers import *\n",
    "from keras.callbacks import *\n",
    "from keras import *"
   ]
  },
  {
   "cell_type": "code",
   "execution_count": 33,
   "metadata": {},
   "outputs": [],
   "source": [
    "#圖片為黑白的故為 1 channel\n",
    "input_shape = (256, 256, 1)\n",
    "inputs = Input(shape=input_shape)\n",
    "#一開始的卷積面積為16\n",
    "start=16\n",
    "#MaxPooling跑6層，UpSampling跑6+1層，最多設到6，設到7會報錯\n",
    "layerCount=6\n",
    "x = Conv2D(start, (3, 3), activation='relu', padding='same')(inputs)\n",
    "x = MaxPooling2D((2, 2), padding='same')(x)\n",
    "for r in range(0,layerCount):\n",
    "    #卷積面積透過迴圈依2倍放大\n",
    "    start=start*2\n",
    "    x = Conv2D(start, (3, 3), activation='relu', padding='same')(x)\n",
    "    x = MaxPooling2D((2, 2), padding='same')(x)\n",
    "#6+1層的那個+1層\n",
    "x = UpSampling2D((2, 2))(x)\n",
    "x = Conv2D(start, (3, 3), activation='relu', padding='same')(x)\n",
    "for r in range(0,layerCount):\n",
    "    #卷積面積透過迴圈依2倍縮小\n",
    "    start=start/2\n",
    "    x = UpSampling2D((2, 2))(x)\n",
    "    x = Conv2D(start, (3, 3), activation='relu', padding='same')(x)\n",
    "x = Conv2D(1, (1, 1), activation='sigmoid', padding='same')(x)\n",
    "model = Model(inputs=inputs, outputs=x)\n",
    "model.compile(optimizer = Adam(lr = 1e-4), loss = 'binary_crossentropy', metrics = ['accuracy'])"
   ]
  },
  {
   "cell_type": "code",
   "execution_count": 34,
   "metadata": {},
   "outputs": [],
   "source": [
    "from data import *"
   ]
  },
  {
   "cell_type": "code",
   "execution_count": 35,
   "metadata": {},
   "outputs": [],
   "source": [
    "data_gen_args = dict(rotation_range=0.2,\n",
    "                    width_shift_range=0.05,\n",
    "                    height_shift_range=0.05,\n",
    "                    shear_range=0.05,\n",
    "                    zoom_range=0.05,\n",
    "                    horizontal_flip=True,\n",
    "                    fill_mode='nearest')\n",
    "b=1\n",
    "train = trainGenerator(b,r'img\\folder5','train','trainmask',data_gen_args,save_to_dir = None)\n",
    "val= trainGenerator(b,r'img\\folder5','validation','validationmask',data_gen_args,save_to_dir = None)"
   ]
  },
  {
   "cell_type": "code",
   "execution_count": 36,
   "metadata": {},
   "outputs": [
    {
     "name": "stdout",
     "output_type": "stream",
     "text": [
      "Found 3614 images belonging to 1 classes.\n",
      "Found 3614 images belonging to 1 classes.\n",
      "Epoch 1/30\n",
      "5000/5000 [==============================] - ETA: 0s - loss: 0.0450 - accuracy: 0.9845\n",
      "Epoch 1: loss improved from inf to 0.04500, saving model to FCN_membrane.hdf5\n",
      "5000/5000 [==============================] - 130s 26ms/step - loss: 0.0450 - accuracy: 0.9845\n",
      "Epoch 2/30\n",
      "4998/5000 [============================>.] - ETA: 0s - loss: 0.0321 - accuracy: 0.9859\n",
      "Epoch 2: loss improved from 0.04500 to 0.03207, saving model to FCN_membrane.hdf5\n",
      "5000/5000 [==============================] - 123s 25ms/step - loss: 0.0321 - accuracy: 0.9859\n",
      "Epoch 3/30\n",
      "5000/5000 [==============================] - ETA: 0s - loss: 0.0294 - accuracy: 0.9868\n",
      "Epoch 3: loss improved from 0.03207 to 0.02944, saving model to FCN_membrane.hdf5\n",
      "5000/5000 [==============================] - 125s 25ms/step - loss: 0.0294 - accuracy: 0.9868\n",
      "Epoch 4/30\n",
      "4999/5000 [============================>.] - ETA: 0s - loss: 0.0273 - accuracy: 0.9877\n",
      "Epoch 4: loss improved from 0.02944 to 0.02734, saving model to FCN_membrane.hdf5\n",
      "5000/5000 [==============================] - 127s 25ms/step - loss: 0.0273 - accuracy: 0.9877\n",
      "Epoch 5/30\n",
      "5000/5000 [==============================] - ETA: 0s - loss: 0.0259 - accuracy: 0.9884\n",
      "Epoch 5: loss improved from 0.02734 to 0.02585, saving model to FCN_membrane.hdf5\n",
      "5000/5000 [==============================] - 129s 26ms/step - loss: 0.0259 - accuracy: 0.9884\n",
      "Epoch 6/30\n",
      "5000/5000 [==============================] - ETA: 0s - loss: 0.0245 - accuracy: 0.9890\n",
      "Epoch 6: loss improved from 0.02585 to 0.02450, saving model to FCN_membrane.hdf5\n",
      "5000/5000 [==============================] - 128s 26ms/step - loss: 0.0245 - accuracy: 0.9890\n",
      "Epoch 7/30\n",
      "5000/5000 [==============================] - ETA: 0s - loss: 0.0235 - accuracy: 0.9895\n",
      "Epoch 7: loss improved from 0.02450 to 0.02346, saving model to FCN_membrane.hdf5\n",
      "5000/5000 [==============================] - 130s 26ms/step - loss: 0.0235 - accuracy: 0.9895\n",
      "Epoch 8/30\n",
      "4998/5000 [============================>.] - ETA: 0s - loss: 0.0224 - accuracy: 0.9899\n",
      "Epoch 8: loss improved from 0.02346 to 0.02242, saving model to FCN_membrane.hdf5\n",
      "5000/5000 [==============================] - 130s 26ms/step - loss: 0.0224 - accuracy: 0.9899\n",
      "Epoch 9/30\n",
      "4998/5000 [============================>.] - ETA: 0s - loss: 0.0216 - accuracy: 0.9903\n",
      "Epoch 9: loss improved from 0.02242 to 0.02164, saving model to FCN_membrane.hdf5\n",
      "5000/5000 [==============================] - 125s 25ms/step - loss: 0.0216 - accuracy: 0.9903\n",
      "Epoch 10/30\n",
      "4998/5000 [============================>.] - ETA: 0s - loss: 0.0206 - accuracy: 0.9907\n",
      "Epoch 10: loss improved from 0.02164 to 0.02062, saving model to FCN_membrane.hdf5\n",
      "5000/5000 [==============================] - 125s 25ms/step - loss: 0.0206 - accuracy: 0.9907\n",
      "Epoch 11/30\n",
      "4999/5000 [============================>.] - ETA: 0s - loss: 0.0201 - accuracy: 0.9910\n",
      "Epoch 11: loss improved from 0.02062 to 0.02009, saving model to FCN_membrane.hdf5\n",
      "5000/5000 [==============================] - 124s 25ms/step - loss: 0.0201 - accuracy: 0.9910\n",
      "Epoch 12/30\n",
      "4999/5000 [============================>.] - ETA: 0s - loss: 0.0192 - accuracy: 0.9914\n",
      "Epoch 12: loss improved from 0.02009 to 0.01917, saving model to FCN_membrane.hdf5\n",
      "5000/5000 [==============================] - 128s 26ms/step - loss: 0.0192 - accuracy: 0.9914\n",
      "Epoch 13/30\n",
      "5000/5000 [==============================] - ETA: 0s - loss: 0.0187 - accuracy: 0.9917\n",
      "Epoch 13: loss improved from 0.01917 to 0.01875, saving model to FCN_membrane.hdf5\n",
      "5000/5000 [==============================] - 126s 25ms/step - loss: 0.0187 - accuracy: 0.9917\n",
      "Epoch 14/30\n",
      "5000/5000 [==============================] - ETA: 0s - loss: 0.0180 - accuracy: 0.9920\n",
      "Epoch 14: loss improved from 0.01875 to 0.01800, saving model to FCN_membrane.hdf5\n",
      "5000/5000 [==============================] - 121s 24ms/step - loss: 0.0180 - accuracy: 0.9920\n",
      "Epoch 15/30\n",
      "4999/5000 [============================>.] - ETA: 0s - loss: 0.0177 - accuracy: 0.9922\n",
      "Epoch 15: loss improved from 0.01800 to 0.01767, saving model to FCN_membrane.hdf5\n",
      "5000/5000 [==============================] - 125s 25ms/step - loss: 0.0177 - accuracy: 0.9922\n",
      "Epoch 16/30\n",
      "5000/5000 [==============================] - ETA: 0s - loss: 0.0171 - accuracy: 0.9924\n",
      "Epoch 16: loss improved from 0.01767 to 0.01705, saving model to FCN_membrane.hdf5\n",
      "5000/5000 [==============================] - 126s 25ms/step - loss: 0.0171 - accuracy: 0.9924\n",
      "Epoch 17/30\n",
      "5000/5000 [==============================] - ETA: 0s - loss: 0.0164 - accuracy: 0.9927\n",
      "Epoch 17: loss improved from 0.01705 to 0.01642, saving model to FCN_membrane.hdf5\n",
      "5000/5000 [==============================] - 129s 26ms/step - loss: 0.0164 - accuracy: 0.9927\n",
      "Epoch 18/30\n",
      "5000/5000 [==============================] - ETA: 0s - loss: 0.0162 - accuracy: 0.9928\n",
      "Epoch 18: loss improved from 0.01642 to 0.01624, saving model to FCN_membrane.hdf5\n",
      "5000/5000 [==============================] - 129s 26ms/step - loss: 0.0162 - accuracy: 0.9928\n",
      "Epoch 19/30\n",
      "4999/5000 [============================>.] - ETA: 0s - loss: 0.0158 - accuracy: 0.9930\n",
      "Epoch 19: loss improved from 0.01624 to 0.01583, saving model to FCN_membrane.hdf5\n",
      "5000/5000 [==============================] - 129s 26ms/step - loss: 0.0158 - accuracy: 0.9930\n",
      "Epoch 20/30\n",
      "5000/5000 [==============================] - ETA: 0s - loss: 0.0154 - accuracy: 0.9932\n",
      "Epoch 20: loss improved from 0.01583 to 0.01541, saving model to FCN_membrane.hdf5\n",
      "5000/5000 [==============================] - 128s 26ms/step - loss: 0.0154 - accuracy: 0.9932\n",
      "Epoch 21/30\n",
      "5000/5000 [==============================] - ETA: 0s - loss: 0.0152 - accuracy: 0.9933\n",
      "Epoch 21: loss improved from 0.01541 to 0.01519, saving model to FCN_membrane.hdf5\n",
      "5000/5000 [==============================] - 129s 26ms/step - loss: 0.0152 - accuracy: 0.9933\n",
      "Epoch 22/30\n",
      "5000/5000 [==============================] - ETA: 0s - loss: 0.0149 - accuracy: 0.9935\n",
      "Epoch 22: loss improved from 0.01519 to 0.01486, saving model to FCN_membrane.hdf5\n",
      "5000/5000 [==============================] - 130s 26ms/step - loss: 0.0149 - accuracy: 0.9935\n",
      "Epoch 23/30\n",
      "4999/5000 [============================>.] - ETA: 0s - loss: 0.0144 - accuracy: 0.9937\n",
      "Epoch 23: loss improved from 0.01486 to 0.01441, saving model to FCN_membrane.hdf5\n",
      "5000/5000 [==============================] - 130s 26ms/step - loss: 0.0144 - accuracy: 0.9937\n",
      "Epoch 24/30\n",
      "4998/5000 [============================>.] - ETA: 0s - loss: 0.0141 - accuracy: 0.9938\n",
      "Epoch 24: loss improved from 0.01441 to 0.01411, saving model to FCN_membrane.hdf5\n",
      "5000/5000 [==============================] - 130s 26ms/step - loss: 0.0141 - accuracy: 0.9938\n",
      "Epoch 25/30\n",
      "5000/5000 [==============================] - ETA: 0s - loss: 0.0138 - accuracy: 0.9939\n",
      "Epoch 25: loss improved from 0.01411 to 0.01383, saving model to FCN_membrane.hdf5\n",
      "5000/5000 [==============================] - 130s 26ms/step - loss: 0.0138 - accuracy: 0.9939\n",
      "Epoch 26/30\n",
      "5000/5000 [==============================] - ETA: 0s - loss: 0.0136 - accuracy: 0.9940\n",
      "Epoch 26: loss improved from 0.01383 to 0.01357, saving model to FCN_membrane.hdf5\n",
      "5000/5000 [==============================] - 130s 26ms/step - loss: 0.0136 - accuracy: 0.9940\n",
      "Epoch 27/30\n",
      "4999/5000 [============================>.] - ETA: 0s - loss: 0.0135 - accuracy: 0.9941\n",
      "Epoch 27: loss improved from 0.01357 to 0.01350, saving model to FCN_membrane.hdf5\n",
      "5000/5000 [==============================] - 130s 26ms/step - loss: 0.0135 - accuracy: 0.9941\n",
      "Epoch 28/30\n",
      "5000/5000 [==============================] - ETA: 0s - loss: 0.0133 - accuracy: 0.9942\n",
      "Epoch 28: loss improved from 0.01350 to 0.01328, saving model to FCN_membrane.hdf5\n",
      "5000/5000 [==============================] - 130s 26ms/step - loss: 0.0133 - accuracy: 0.9942\n",
      "Epoch 29/30\n",
      "5000/5000 [==============================] - ETA: 0s - loss: 0.0130 - accuracy: 0.9943\n",
      "Epoch 29: loss improved from 0.01328 to 0.01300, saving model to FCN_membrane.hdf5\n",
      "5000/5000 [==============================] - 130s 26ms/step - loss: 0.0130 - accuracy: 0.9943\n",
      "Epoch 30/30\n",
      "5000/5000 [==============================] - ETA: 0s - loss: 0.0129 - accuracy: 0.9943\n",
      "Epoch 30: loss improved from 0.01300 to 0.01287, saving model to FCN_membrane.hdf5\n",
      "5000/5000 [==============================] - 130s 26ms/step - loss: 0.0129 - accuracy: 0.9943\n"
     ]
    },
    {
     "data": {
      "text/plain": [
       "<keras.callbacks.History at 0x22097aa7ee0>"
      ]
     },
     "execution_count": 36,
     "metadata": {},
     "output_type": "execute_result"
    }
   ],
   "source": [
    "model_checkpoint = ModelCheckpoint('FCN_membrane.hdf5', monitor='loss',verbose=1, save_best_only=True)\n",
    "model_checkpoint2=EarlyStopping(monitor='loss', patience=5)\n",
    "model.fit(train,steps_per_epoch=5000,epochs=30,callbacks=[model_checkpoint,model_checkpoint2],validation_steps=val)"
   ]
  },
  {
   "cell_type": "code",
   "execution_count": 37,
   "metadata": {},
   "outputs": [
    {
     "name": "stderr",
     "output_type": "stream",
     "text": [
      "C:\\Users\\user\\AppData\\Local\\Temp\\ipykernel_25136\\2930822701.py:4: UserWarning: `Model.predict_generator` is deprecated and will be removed in a future version. Please use `Model.predict`, which supports generators.\n",
      "  results = model.predict_generator(test,testCount,verbose=1)\n"
     ]
    },
    {
     "name": "stdout",
     "output_type": "stream",
     "text": [
      "46/46 [==============================] - 1s 11ms/step\n"
     ]
    }
   ],
   "source": [
    "test = testGenerator(r\"img\\folder5\\test\")\n",
    "#有多少張圖\n",
    "testCount=46\n",
    "results = model.predict_generator(test,testCount,verbose=1)\n",
    "saveResult(r\"img\\folder5\\predict\",results)"
   ]
  }
 ],
 "metadata": {
  "kernelspec": {
   "display_name": "King",
   "language": "python",
   "name": "python3"
  },
  "language_info": {
   "codemirror_mode": {
    "name": "ipython",
    "version": 3
   },
   "file_extension": ".py",
   "mimetype": "text/x-python",
   "name": "python",
   "nbconvert_exporter": "python",
   "pygments_lexer": "ipython3",
   "version": "3.8.16"
  },
  "orig_nbformat": 4
 },
 "nbformat": 4,
 "nbformat_minor": 2
}
