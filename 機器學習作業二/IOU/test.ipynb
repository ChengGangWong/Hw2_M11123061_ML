{
 "cells": [
  {
   "cell_type": "code",
   "execution_count": 1,
   "metadata": {},
   "outputs": [],
   "source": [
    "from IOU import *"
   ]
  },
  {
   "cell_type": "code",
   "execution_count": 3,
   "metadata": {},
   "outputs": [
    {
     "name": "stdout",
     "output_type": "stream",
     "text": [
      "0.31672705314009664\n",
      "91.30434782608695\n",
      "97.82608695652173\n"
     ]
    }
   ],
   "source": [
    "print(AvgError(r\"C:\\Users\\user\\Desktop\\FCN\\img\\folder5\\predict\",'_predict.png',r'C:\\Users\\user\\Desktop\\FCN\\img\\folder5\\testmask','.png',72))\n",
    "print(Acc(r\"C:\\Users\\user\\Desktop\\FCN\\img\\folder5\\predict\",'_predict.png',r'C:\\Users\\user\\Desktop\\FCN\\img\\folder5\\testmask','.png',72,2))\n",
    "print(Acc(r\"C:\\Users\\user\\Desktop\\FCN\\img\\folder5\\predict\",'_predict.png',r'C:\\Users\\user\\Desktop\\FCN\\img\\folder5\\testmask','.png',72,1))"
   ]
  }
 ],
 "metadata": {
  "kernelspec": {
   "display_name": "GPU",
   "language": "python",
   "name": "python3"
  },
  "language_info": {
   "codemirror_mode": {
    "name": "ipython",
    "version": 3
   },
   "file_extension": ".py",
   "mimetype": "text/x-python",
   "name": "python",
   "nbconvert_exporter": "python",
   "pygments_lexer": "ipython3",
   "version": "3.7.8"
  },
  "orig_nbformat": 4
 },
 "nbformat": 4,
 "nbformat_minor": 2
}
