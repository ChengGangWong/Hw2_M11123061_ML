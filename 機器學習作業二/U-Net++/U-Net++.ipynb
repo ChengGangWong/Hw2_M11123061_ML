{
 "cells": [
  {
   "cell_type": "code",
   "execution_count": 1,
   "metadata": {},
   "outputs": [],
   "source": [
    "from data import*\n",
    "from keras.layers import *\n",
    "from keras import backend as K\n",
    "from keras.models import*\n",
    "from keras.callbacks import*"
   ]
  },
  {
   "cell_type": "code",
   "execution_count": 2,
   "metadata": {},
   "outputs": [],
   "source": [
    "dropout_rate = 0.5\n",
    "\n",
    "def conv_batchnorm_relu_block(input_tensor, nb_filter, kernel_size=3):\n",
    "    x = Conv2D(nb_filter, (kernel_size, kernel_size), padding='same')(input_tensor)\n",
    "    x = BatchNormalization(axis=2)(x)\n",
    "    x = Activation('relu')(x)\n",
    "    return x"
   ]
  },
  {
   "cell_type": "code",
   "execution_count": 3,
   "metadata": {},
   "outputs": [],
   "source": [
    "_filter=[32,64,128,256,1024]\n",
    "global bn_axis\n",
    "K.set_image_data_format(\"channels_last\")\n",
    "bn_axis = -1\n",
    "inputs = Input(shape=(256,256,1))\n",
    "#Pooling\n",
    "pool=[]\n",
    "#卷積\n",
    "conv_=[]\n",
    "#輸入層\n",
    "c=conv_batchnorm_relu_block(inputs, nb_filter=_filter[0])\n",
    "l=[]\n",
    "l.append(c)\n",
    "conv_.append(l)\n",
    "pool.append(MaxPool2D((2, 2), strides=(2, 2))(c))\n",
    "#隱藏層\n",
    "for f in range(1,len(_filter)):\n",
    "    c=conv_batchnorm_relu_block(pool[f-1], nb_filter=_filter[f])\n",
    "    l=[]\n",
    "    l.append(c)\n",
    "    conv_.append(l)\n",
    "    pool.append(MaxPool2D((2, 2), strides=(2, 2))(c))\n",
    "for h in range(0,len(_filter)-1):\n",
    "    for f in range(1,len(_filter)):\n",
    "        up=Conv2DTranspose(_filter[f-1], (2, 2), strides=(2, 2), padding='same')(conv_[f][len(conv_[f])-1])\n",
    "        l=[]\n",
    "        l.append(up)\n",
    "        for c in conv_[f-1]:\n",
    "            l.append(c)\n",
    "        conv=concatenate(l, axis=bn_axis)\n",
    "        conv_[f-1].append(conv_batchnorm_relu_block(conv, nb_filter=_filter[f-1]))\n",
    "conv=[]\n",
    "for c2 in conv_[0]:\n",
    "    conv.append(c2)\n",
    "resultConv=concatenate(conv, axis=bn_axis)\n",
    "resultConv = conv_batchnorm_relu_block(resultConv, nb_filter=_filter[0])\n",
    "model = Model(inputs=inputs, outputs=Conv2D(1, (1, 1), activation='sigmoid', padding='same')(resultConv))"
   ]
  },
  {
   "cell_type": "code",
   "execution_count": 4,
   "metadata": {},
   "outputs": [],
   "source": [
    "data_gen_args = dict(rotation_range=0.2,\n",
    "                    width_shift_range=0.05,\n",
    "                    height_shift_range=0.05,\n",
    "                    shear_range=0.05,\n",
    "                    zoom_range=0.05,\n",
    "                    horizontal_flip=True,\n",
    "                    fill_mode='nearest')\n",
    "b=1\n",
    "train = trainGenerator(b,r'data\\folder3','train','trainmask',data_gen_args,save_to_dir = None)\n",
    "val= trainGenerator(b,r'data\\folder3','validation','validationmask',data_gen_args,save_to_dir = None)"
   ]
  },
  {
   "cell_type": "code",
   "execution_count": 5,
   "metadata": {},
   "outputs": [
    {
     "name": "stdout",
     "output_type": "stream",
     "text": [
      "Found 3627 images belonging to 1 classes.\n",
      "Found 3627 images belonging to 1 classes.\n",
      "Epoch 1/30\n",
      "5000/5000 [==============================] - ETA: 0s - loss: 0.0432 - io_u: 0.9845\n",
      "Epoch 1: loss improved from inf to 0.04322, saving model to u-net++_membrane.hdf5\n",
      "5000/5000 [==============================] - 399s 78ms/step - loss: 0.0432 - io_u: 0.9845\n",
      "Epoch 2/30\n",
      "5000/5000 [==============================] - ETA: 0s - loss: 0.0252 - io_u: 0.9845\n",
      "Epoch 2: loss improved from 0.04322 to 0.02518, saving model to u-net++_membrane.hdf5\n",
      "5000/5000 [==============================] - 392s 78ms/step - loss: 0.0252 - io_u: 0.9845\n",
      "Epoch 3/30\n",
      "5000/5000 [==============================] - ETA: 0s - loss: 0.0214 - io_u: 0.9845\n",
      "Epoch 3: loss improved from 0.02518 to 0.02136, saving model to u-net++_membrane.hdf5\n",
      "5000/5000 [==============================] - 394s 79ms/step - loss: 0.0214 - io_u: 0.9845\n",
      "Epoch 4/30\n",
      "5000/5000 [==============================] - ETA: 0s - loss: 0.0178 - io_u: 0.9844\n",
      "Epoch 4: loss improved from 0.02136 to 0.01781, saving model to u-net++_membrane.hdf5\n",
      "5000/5000 [==============================] - 393s 79ms/step - loss: 0.0178 - io_u: 0.9844\n",
      "Epoch 5/30\n",
      "5000/5000 [==============================] - ETA: 0s - loss: 0.0164 - io_u: 0.9845\n",
      "Epoch 5: loss improved from 0.01781 to 0.01639, saving model to u-net++_membrane.hdf5\n",
      "5000/5000 [==============================] - 394s 79ms/step - loss: 0.0164 - io_u: 0.9845\n",
      "Epoch 6/30\n",
      "5000/5000 [==============================] - ETA: 0s - loss: 0.0150 - io_u: 0.9845\n",
      "Epoch 6: loss improved from 0.01639 to 0.01504, saving model to u-net++_membrane.hdf5\n",
      "5000/5000 [==============================] - 394s 79ms/step - loss: 0.0150 - io_u: 0.9845\n",
      "Epoch 7/30\n",
      "5000/5000 [==============================] - ETA: 0s - loss: 0.0140 - io_u: 0.9845\n",
      "Epoch 7: loss improved from 0.01504 to 0.01402, saving model to u-net++_membrane.hdf5\n",
      "5000/5000 [==============================] - 394s 79ms/step - loss: 0.0140 - io_u: 0.9845\n",
      "Epoch 8/30\n",
      "5000/5000 [==============================] - ETA: 0s - loss: 0.0129 - io_u: 0.9845\n",
      "Epoch 8: loss improved from 0.01402 to 0.01294, saving model to u-net++_membrane.hdf5\n",
      "5000/5000 [==============================] - 394s 79ms/step - loss: 0.0129 - io_u: 0.9845\n",
      "Epoch 9/30\n",
      "5000/5000 [==============================] - ETA: 0s - loss: 0.0124 - io_u: 0.9845\n",
      "Epoch 9: loss improved from 0.01294 to 0.01239, saving model to u-net++_membrane.hdf5\n",
      "5000/5000 [==============================] - 394s 79ms/step - loss: 0.0124 - io_u: 0.9845\n",
      "Epoch 10/30\n",
      "5000/5000 [==============================] - ETA: 0s - loss: 0.0117 - io_u: 0.9845\n",
      "Epoch 10: loss improved from 0.01239 to 0.01167, saving model to u-net++_membrane.hdf5\n",
      "5000/5000 [==============================] - 394s 79ms/step - loss: 0.0117 - io_u: 0.9845\n",
      "Epoch 11/30\n",
      "5000/5000 [==============================] - ETA: 0s - loss: 0.0111 - io_u: 0.9845\n",
      "Epoch 11: loss improved from 0.01167 to 0.01106, saving model to u-net++_membrane.hdf5\n",
      "5000/5000 [==============================] - 394s 79ms/step - loss: 0.0111 - io_u: 0.9845\n",
      "Epoch 12/30\n",
      "5000/5000 [==============================] - ETA: 0s - loss: 0.0106 - io_u: 0.9844\n",
      "Epoch 12: loss improved from 0.01106 to 0.01063, saving model to u-net++_membrane.hdf5\n",
      "5000/5000 [==============================] - 394s 79ms/step - loss: 0.0106 - io_u: 0.9844\n",
      "Epoch 13/30\n",
      "5000/5000 [==============================] - ETA: 0s - loss: 0.0101 - io_u: 0.9845\n",
      "Epoch 13: loss improved from 0.01063 to 0.01012, saving model to u-net++_membrane.hdf5\n",
      "5000/5000 [==============================] - 394s 79ms/step - loss: 0.0101 - io_u: 0.9845\n",
      "Epoch 14/30\n",
      "5000/5000 [==============================] - ETA: 0s - loss: 0.0097 - io_u: 0.9845\n",
      "Epoch 14: loss improved from 0.01012 to 0.00972, saving model to u-net++_membrane.hdf5\n",
      "5000/5000 [==============================] - 394s 79ms/step - loss: 0.0097 - io_u: 0.9845\n",
      "Epoch 15/30\n",
      "5000/5000 [==============================] - ETA: 0s - loss: 0.0094 - io_u: 0.9845\n",
      "Epoch 15: loss improved from 0.00972 to 0.00943, saving model to u-net++_membrane.hdf5\n",
      "5000/5000 [==============================] - 394s 79ms/step - loss: 0.0094 - io_u: 0.9845\n",
      "Epoch 16/30\n",
      "5000/5000 [==============================] - ETA: 0s - loss: 0.0089 - io_u: 0.9845\n",
      "Epoch 16: loss improved from 0.00943 to 0.00894, saving model to u-net++_membrane.hdf5\n",
      "5000/5000 [==============================] - 387s 77ms/step - loss: 0.0089 - io_u: 0.9845\n",
      "Epoch 17/30\n",
      "5000/5000 [==============================] - ETA: 0s - loss: 0.0086 - io_u: 0.9845\n",
      "Epoch 17: loss improved from 0.00894 to 0.00863, saving model to u-net++_membrane.hdf5\n",
      "5000/5000 [==============================] - 384s 77ms/step - loss: 0.0086 - io_u: 0.9845\n",
      "Epoch 18/30\n",
      "5000/5000 [==============================] - ETA: 0s - loss: 0.0084 - io_u: 0.9845\n",
      "Epoch 18: loss improved from 0.00863 to 0.00842, saving model to u-net++_membrane.hdf5\n",
      "5000/5000 [==============================] - 387s 77ms/step - loss: 0.0084 - io_u: 0.9845\n",
      "Epoch 19/30\n",
      "5000/5000 [==============================] - ETA: 0s - loss: 0.0080 - io_u: 0.9845\n",
      "Epoch 19: loss improved from 0.00842 to 0.00798, saving model to u-net++_membrane.hdf5\n",
      "5000/5000 [==============================] - 396s 79ms/step - loss: 0.0080 - io_u: 0.9845\n",
      "Epoch 20/30\n",
      "5000/5000 [==============================] - ETA: 0s - loss: 0.0079 - io_u: 0.9845\n",
      "Epoch 20: loss improved from 0.00798 to 0.00788, saving model to u-net++_membrane.hdf5\n",
      "5000/5000 [==============================] - 396s 79ms/step - loss: 0.0079 - io_u: 0.9845\n",
      "Epoch 21/30\n",
      "5000/5000 [==============================] - ETA: 0s - loss: 0.0076 - io_u: 0.9844\n",
      "Epoch 21: loss improved from 0.00788 to 0.00761, saving model to u-net++_membrane.hdf5\n",
      "5000/5000 [==============================] - 397s 79ms/step - loss: 0.0076 - io_u: 0.9844\n",
      "Epoch 22/30\n",
      "5000/5000 [==============================] - ETA: 0s - loss: 0.0074 - io_u: 0.9845\n",
      "Epoch 22: loss improved from 0.00761 to 0.00738, saving model to u-net++_membrane.hdf5\n",
      "5000/5000 [==============================] - 397s 79ms/step - loss: 0.0074 - io_u: 0.9845\n",
      "Epoch 23/30\n",
      "5000/5000 [==============================] - ETA: 0s - loss: 0.0072 - io_u: 0.9844\n",
      "Epoch 23: loss improved from 0.00738 to 0.00718, saving model to u-net++_membrane.hdf5\n",
      "5000/5000 [==============================] - 397s 79ms/step - loss: 0.0072 - io_u: 0.9844\n",
      "Epoch 24/30\n",
      "5000/5000 [==============================] - ETA: 0s - loss: 0.0069 - io_u: 0.9845\n",
      "Epoch 24: loss improved from 0.00718 to 0.00692, saving model to u-net++_membrane.hdf5\n",
      "5000/5000 [==============================] - 397s 79ms/step - loss: 0.0069 - io_u: 0.9845\n",
      "Epoch 25/30\n",
      "5000/5000 [==============================] - ETA: 0s - loss: 0.0068 - io_u: 0.9845\n",
      "Epoch 25: loss improved from 0.00692 to 0.00677, saving model to u-net++_membrane.hdf5\n",
      "5000/5000 [==============================] - 397s 79ms/step - loss: 0.0068 - io_u: 0.9845\n",
      "Epoch 26/30\n",
      "5000/5000 [==============================] - ETA: 0s - loss: 0.0066 - io_u: 0.9844\n",
      "Epoch 26: loss improved from 0.00677 to 0.00656, saving model to u-net++_membrane.hdf5\n",
      "5000/5000 [==============================] - 397s 79ms/step - loss: 0.0066 - io_u: 0.9844\n",
      "Epoch 27/30\n",
      "5000/5000 [==============================] - ETA: 0s - loss: 0.0064 - io_u: 0.9845\n",
      "Epoch 27: loss improved from 0.00656 to 0.00640, saving model to u-net++_membrane.hdf5\n",
      "5000/5000 [==============================] - 397s 79ms/step - loss: 0.0064 - io_u: 0.9845\n",
      "Epoch 28/30\n",
      "5000/5000 [==============================] - ETA: 0s - loss: 0.0063 - io_u: 0.9844\n",
      "Epoch 28: loss improved from 0.00640 to 0.00625, saving model to u-net++_membrane.hdf5\n",
      "5000/5000 [==============================] - 396s 79ms/step - loss: 0.0063 - io_u: 0.9844\n",
      "Epoch 29/30\n",
      "5000/5000 [==============================] - ETA: 0s - loss: 0.0060 - io_u: 0.9845\n",
      "Epoch 29: loss improved from 0.00625 to 0.00597, saving model to u-net++_membrane.hdf5\n",
      "5000/5000 [==============================] - 396s 79ms/step - loss: 0.0060 - io_u: 0.9845\n",
      "Epoch 30/30\n",
      "5000/5000 [==============================] - ETA: 0s - loss: 0.0059 - io_u: 0.9846\n",
      "Epoch 30: loss improved from 0.00597 to 0.00594, saving model to u-net++_membrane.hdf5\n",
      "5000/5000 [==============================] - 396s 79ms/step - loss: 0.0059 - io_u: 0.9846\n"
     ]
    },
    {
     "data": {
      "text/plain": [
       "<keras.callbacks.History at 0x18a116589d0>"
      ]
     },
     "execution_count": 5,
     "metadata": {},
     "output_type": "execute_result"
    }
   ],
   "source": [
    "model_checkpoint = ModelCheckpoint('u-net++_membrane.hdf5', monitor='loss',verbose=1, save_best_only=True)\n",
    "model_checkpoint2 = EarlyStopping(monitor='loss', patience=5,verbose=1)\n",
    "model.compile(optimizer = tf.keras.optimizers.Adam(learning_rate = 1e-4), loss = 'binary_crossentropy', metrics = [tf.keras.metrics.IoU(num_classes=2, target_class_ids=[0])])\n",
    "model.fit(train,steps_per_epoch=5000,epochs=30,callbacks=[model_checkpoint,model_checkpoint2],validation_steps=val)"
   ]
  },
  {
   "cell_type": "code",
   "execution_count": 15,
   "metadata": {},
   "outputs": [
    {
     "name": "stdout",
     "output_type": "stream",
     "text": [
      "5000/5000 [==============================] - ETA: 0s - loss: 0.0054 - io_u: 0.9845\n",
      "Epoch 1: loss improved from 0.00554 to 0.00541, saving model to u-net++_membrane.hdf5\n",
      "5000/5000 [==============================] - 395s 79ms/step - loss: 0.0054 - io_u: 0.9845\n"
     ]
    },
    {
     "data": {
      "text/plain": [
       "<keras.callbacks.History at 0x18a62be1a30>"
      ]
     },
     "execution_count": 15,
     "metadata": {},
     "output_type": "execute_result"
    }
   ],
   "source": [
    "model.fit(train,steps_per_epoch=5000,epochs=1,callbacks=[model_checkpoint,model_checkpoint2],validation_steps=val)"
   ]
  },
  {
   "cell_type": "code",
   "execution_count": 17,
   "metadata": {},
   "outputs": [
    {
     "name": "stdout",
     "output_type": "stream",
     "text": [
      " 1/46 [..............................] - ETA: 1s"
     ]
    },
    {
     "name": "stderr",
     "output_type": "stream",
     "text": [
      "C:\\Users\\user\\AppData\\Local\\Temp\\ipykernel_19816\\1722158046.py:4: UserWarning: `Model.predict_generator` is deprecated and will be removed in a future version. Please use `Model.predict`, which supports generators.\n",
      "  results = model.predict_generator(test,imgCount,verbose=1)\n"
     ]
    },
    {
     "name": "stdout",
     "output_type": "stream",
     "text": [
      "46/46 [==============================] - 1s 22ms/step\n"
     ]
    }
   ],
   "source": [
    "pPath=r\"data\\folder4\\predict\"\n",
    "imgCount=46\n",
    "test = testGenerator(r\"data\\folder4\\test\",imgCount)\n",
    "results = model.predict_generator(test,imgCount,verbose=1)\n",
    "saveResult(pPath,results)"
   ]
  }
 ],
 "metadata": {
  "kernelspec": {
   "display_name": "King",
   "language": "python",
   "name": "python3"
  },
  "language_info": {
   "codemirror_mode": {
    "name": "ipython",
    "version": 3
   },
   "file_extension": ".py",
   "mimetype": "text/x-python",
   "name": "python",
   "nbconvert_exporter": "python",
   "pygments_lexer": "ipython3",
   "version": "3.8.16"
  },
  "orig_nbformat": 4
 },
 "nbformat": 4,
 "nbformat_minor": 2
}
